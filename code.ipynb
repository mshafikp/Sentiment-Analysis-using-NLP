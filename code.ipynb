{
  "nbformat": 4,
  "nbformat_minor": 0,
  "metadata": {
    "colab": {
      "provenance": [],
      "collapsed_sections": [
        "ue3xIDFGSXNH"
      ]
    },
    "kernelspec": {
      "name": "python3",
      "display_name": "Python 3"
    },
    "language_info": {
      "name": "python"
    },
    "accelerator": "GPU",
    "gpuClass": "standard"
  },
  "cells": [
    {
      "cell_type": "markdown",
      "source": [
        "# Student ID: 2200846\n",
        "\n",
        "\n",
        "\n",
        "\n",
        "\n"
      ],
      "metadata": {
        "id": "VgzEm1gDYBUp"
      }
    },
    {
      "cell_type": "markdown",
      "source": [
        "## Install required libraries"
      ],
      "metadata": {
        "id": "zw8XNOAMQY8a"
      }
    },
    {
      "cell_type": "code",
      "source": [
        "!pip install transformers tensorflow"
      ],
      "metadata": {
        "id": "81A_4_dKJV4Y",
        "colab": {
          "base_uri": "https://localhost:8080/"
        },
        "outputId": "9559e7b4-db9c-4dbd-e597-f0df0eb2231b"
      },
      "execution_count": 1,
      "outputs": [
        {
          "output_type": "stream",
          "name": "stdout",
          "text": [
            "Looking in indexes: https://pypi.org/simple, https://us-python.pkg.dev/colab-wheels/public/simple/\n",
            "Collecting transformers\n",
            "  Downloading transformers-4.28.1-py3-none-any.whl (7.0 MB)\n",
            "\u001b[2K     \u001b[90m━━━━━━━━━━━━━━━━━━━━━━━━━━━━━━━━━━━━━━━━\u001b[0m \u001b[32m7.0/7.0 MB\u001b[0m \u001b[31m66.8 MB/s\u001b[0m eta \u001b[36m0:00:00\u001b[0m\n",
            "\u001b[?25hRequirement already satisfied: tensorflow in /usr/local/lib/python3.9/dist-packages (2.12.0)\n",
            "Requirement already satisfied: tqdm>=4.27 in /usr/local/lib/python3.9/dist-packages (from transformers) (4.65.0)\n",
            "Requirement already satisfied: requests in /usr/local/lib/python3.9/dist-packages (from transformers) (2.27.1)\n",
            "Requirement already satisfied: packaging>=20.0 in /usr/local/lib/python3.9/dist-packages (from transformers) (23.1)\n",
            "Requirement already satisfied: filelock in /usr/local/lib/python3.9/dist-packages (from transformers) (3.11.0)\n",
            "Requirement already satisfied: numpy>=1.17 in /usr/local/lib/python3.9/dist-packages (from transformers) (1.22.4)\n",
            "Requirement already satisfied: regex!=2019.12.17 in /usr/local/lib/python3.9/dist-packages (from transformers) (2022.10.31)\n",
            "Requirement already satisfied: pyyaml>=5.1 in /usr/local/lib/python3.9/dist-packages (from transformers) (6.0)\n",
            "Collecting tokenizers!=0.11.3,<0.14,>=0.11.1\n",
            "  Downloading tokenizers-0.13.3-cp39-cp39-manylinux_2_17_x86_64.manylinux2014_x86_64.whl (7.8 MB)\n",
            "\u001b[2K     \u001b[90m━━━━━━━━━━━━━━━━━━━━━━━━━━━━━━━━━━━━━━━━\u001b[0m \u001b[32m7.8/7.8 MB\u001b[0m \u001b[31m70.2 MB/s\u001b[0m eta \u001b[36m0:00:00\u001b[0m\n",
            "\u001b[?25hCollecting huggingface-hub<1.0,>=0.11.0\n",
            "  Downloading huggingface_hub-0.13.4-py3-none-any.whl (200 kB)\n",
            "\u001b[2K     \u001b[90m━━━━━━━━━━━━━━━━━━━━━━━━━━━━━━━━━━━━━━━\u001b[0m \u001b[32m200.1/200.1 kB\u001b[0m \u001b[31m6.5 MB/s\u001b[0m eta \u001b[36m0:00:00\u001b[0m\n",
            "\u001b[?25hRequirement already satisfied: absl-py>=1.0.0 in /usr/local/lib/python3.9/dist-packages (from tensorflow) (1.4.0)\n",
            "Requirement already satisfied: google-pasta>=0.1.1 in /usr/local/lib/python3.9/dist-packages (from tensorflow) (0.2.0)\n",
            "Requirement already satisfied: setuptools in /usr/local/lib/python3.9/dist-packages (from tensorflow) (67.6.1)\n",
            "Requirement already satisfied: h5py>=2.9.0 in /usr/local/lib/python3.9/dist-packages (from tensorflow) (3.8.0)\n",
            "Requirement already satisfied: gast<=0.4.0,>=0.2.1 in /usr/local/lib/python3.9/dist-packages (from tensorflow) (0.4.0)\n",
            "Requirement already satisfied: typing-extensions>=3.6.6 in /usr/local/lib/python3.9/dist-packages (from tensorflow) (4.5.0)\n",
            "Requirement already satisfied: six>=1.12.0 in /usr/local/lib/python3.9/dist-packages (from tensorflow) (1.16.0)\n",
            "Requirement already satisfied: protobuf!=4.21.0,!=4.21.1,!=4.21.2,!=4.21.3,!=4.21.4,!=4.21.5,<5.0.0dev,>=3.20.3 in /usr/local/lib/python3.9/dist-packages (from tensorflow) (3.20.3)\n",
            "Requirement already satisfied: grpcio<2.0,>=1.24.3 in /usr/local/lib/python3.9/dist-packages (from tensorflow) (1.53.0)\n",
            "Requirement already satisfied: tensorflow-estimator<2.13,>=2.12.0 in /usr/local/lib/python3.9/dist-packages (from tensorflow) (2.12.0)\n",
            "Requirement already satisfied: libclang>=13.0.0 in /usr/local/lib/python3.9/dist-packages (from tensorflow) (16.0.0)\n",
            "Requirement already satisfied: tensorflow-io-gcs-filesystem>=0.23.1 in /usr/local/lib/python3.9/dist-packages (from tensorflow) (0.32.0)\n",
            "Requirement already satisfied: keras<2.13,>=2.12.0 in /usr/local/lib/python3.9/dist-packages (from tensorflow) (2.12.0)\n",
            "Requirement already satisfied: flatbuffers>=2.0 in /usr/local/lib/python3.9/dist-packages (from tensorflow) (23.3.3)\n",
            "Requirement already satisfied: astunparse>=1.6.0 in /usr/local/lib/python3.9/dist-packages (from tensorflow) (1.6.3)\n",
            "Requirement already satisfied: opt-einsum>=2.3.2 in /usr/local/lib/python3.9/dist-packages (from tensorflow) (3.3.0)\n",
            "Requirement already satisfied: jax>=0.3.15 in /usr/local/lib/python3.9/dist-packages (from tensorflow) (0.4.8)\n",
            "Requirement already satisfied: tensorboard<2.13,>=2.12 in /usr/local/lib/python3.9/dist-packages (from tensorflow) (2.12.2)\n",
            "Requirement already satisfied: termcolor>=1.1.0 in /usr/local/lib/python3.9/dist-packages (from tensorflow) (2.2.0)\n",
            "Requirement already satisfied: wrapt<1.15,>=1.11.0 in /usr/local/lib/python3.9/dist-packages (from tensorflow) (1.14.1)\n",
            "Requirement already satisfied: wheel<1.0,>=0.23.0 in /usr/local/lib/python3.9/dist-packages (from astunparse>=1.6.0->tensorflow) (0.40.0)\n",
            "Requirement already satisfied: ml-dtypes>=0.0.3 in /usr/local/lib/python3.9/dist-packages (from jax>=0.3.15->tensorflow) (0.1.0)\n",
            "Requirement already satisfied: scipy>=1.7 in /usr/local/lib/python3.9/dist-packages (from jax>=0.3.15->tensorflow) (1.10.1)\n",
            "Requirement already satisfied: google-auth-oauthlib<1.1,>=0.5 in /usr/local/lib/python3.9/dist-packages (from tensorboard<2.13,>=2.12->tensorflow) (1.0.0)\n",
            "Requirement already satisfied: werkzeug>=1.0.1 in /usr/local/lib/python3.9/dist-packages (from tensorboard<2.13,>=2.12->tensorflow) (2.2.3)\n",
            "Requirement already satisfied: tensorboard-data-server<0.8.0,>=0.7.0 in /usr/local/lib/python3.9/dist-packages (from tensorboard<2.13,>=2.12->tensorflow) (0.7.0)\n",
            "Requirement already satisfied: markdown>=2.6.8 in /usr/local/lib/python3.9/dist-packages (from tensorboard<2.13,>=2.12->tensorflow) (3.4.3)\n",
            "Requirement already satisfied: tensorboard-plugin-wit>=1.6.0 in /usr/local/lib/python3.9/dist-packages (from tensorboard<2.13,>=2.12->tensorflow) (1.8.1)\n",
            "Requirement already satisfied: google-auth<3,>=1.6.3 in /usr/local/lib/python3.9/dist-packages (from tensorboard<2.13,>=2.12->tensorflow) (2.17.3)\n",
            "Requirement already satisfied: urllib3<1.27,>=1.21.1 in /usr/local/lib/python3.9/dist-packages (from requests->transformers) (1.26.15)\n",
            "Requirement already satisfied: certifi>=2017.4.17 in /usr/local/lib/python3.9/dist-packages (from requests->transformers) (2022.12.7)\n",
            "Requirement already satisfied: idna<4,>=2.5 in /usr/local/lib/python3.9/dist-packages (from requests->transformers) (3.4)\n",
            "Requirement already satisfied: charset-normalizer~=2.0.0 in /usr/local/lib/python3.9/dist-packages (from requests->transformers) (2.0.12)\n",
            "Requirement already satisfied: pyasn1-modules>=0.2.1 in /usr/local/lib/python3.9/dist-packages (from google-auth<3,>=1.6.3->tensorboard<2.13,>=2.12->tensorflow) (0.2.8)\n",
            "Requirement already satisfied: rsa<5,>=3.1.4 in /usr/local/lib/python3.9/dist-packages (from google-auth<3,>=1.6.3->tensorboard<2.13,>=2.12->tensorflow) (4.9)\n",
            "Requirement already satisfied: cachetools<6.0,>=2.0.0 in /usr/local/lib/python3.9/dist-packages (from google-auth<3,>=1.6.3->tensorboard<2.13,>=2.12->tensorflow) (5.3.0)\n",
            "Requirement already satisfied: requests-oauthlib>=0.7.0 in /usr/local/lib/python3.9/dist-packages (from google-auth-oauthlib<1.1,>=0.5->tensorboard<2.13,>=2.12->tensorflow) (1.3.1)\n",
            "Requirement already satisfied: importlib-metadata>=4.4 in /usr/local/lib/python3.9/dist-packages (from markdown>=2.6.8->tensorboard<2.13,>=2.12->tensorflow) (6.4.1)\n",
            "Requirement already satisfied: MarkupSafe>=2.1.1 in /usr/local/lib/python3.9/dist-packages (from werkzeug>=1.0.1->tensorboard<2.13,>=2.12->tensorflow) (2.1.2)\n",
            "Requirement already satisfied: zipp>=0.5 in /usr/local/lib/python3.9/dist-packages (from importlib-metadata>=4.4->markdown>=2.6.8->tensorboard<2.13,>=2.12->tensorflow) (3.15.0)\n",
            "Requirement already satisfied: pyasn1<0.5.0,>=0.4.6 in /usr/local/lib/python3.9/dist-packages (from pyasn1-modules>=0.2.1->google-auth<3,>=1.6.3->tensorboard<2.13,>=2.12->tensorflow) (0.4.8)\n",
            "Requirement already satisfied: oauthlib>=3.0.0 in /usr/local/lib/python3.9/dist-packages (from requests-oauthlib>=0.7.0->google-auth-oauthlib<1.1,>=0.5->tensorboard<2.13,>=2.12->tensorflow) (3.2.2)\n",
            "Installing collected packages: tokenizers, huggingface-hub, transformers\n",
            "Successfully installed huggingface-hub-0.13.4 tokenizers-0.13.3 transformers-4.28.1\n"
          ]
        }
      ]
    },
    {
      "cell_type": "markdown",
      "source": [
        "## import all require libraries. "
      ],
      "metadata": {
        "id": "U5XEt6asIi3Q"
      }
    },
    {
      "cell_type": "code",
      "source": [
        "import warnings\n",
        "warnings.filterwarnings(\"ignore\")\n",
        "import numpy as np\n",
        "import os\n",
        "import pandas as pd\n",
        "import joblib\n",
        "import re\n",
        "import matplotlib.pyplot as plt\n",
        "import seaborn as sns\n",
        "from transformers import DistilBertTokenizer, TFDistilBertModel, DistilBertConfig\n",
        "from tensorflow.keras.utils import custom_object_scope\n",
        "from sklearn.model_selection import train_test_split\n",
        "from sklearn.feature_extraction.text import TfidfVectorizer\n",
        "from sklearn.model_selection import GridSearchCV\n",
        "from sklearn.pipeline import Pipeline\n",
        "from sklearn.metrics import accuracy_score, recall_score, precision_score, f1_score, confusion_matrix\n",
        "from tensorflow.keras.models import Sequential, load_model, Model\n",
        "from tensorflow.keras.layers import Embedding, Bidirectional, LSTM, Dense, Dropout, Flatten, Input\n",
        "from tensorflow.keras.callbacks import ModelCheckpoint\n",
        "from tensorflow.keras.preprocessing.text import Tokenizer\n",
        "from tensorflow.keras.utils import pad_sequences\n",
        "import torch\n",
        "import datetime\n",
        "from sklearn import svm\n",
        "import nltk\n",
        "from nltk.tokenize import word_tokenize\n",
        "from nltk.corpus import stopwords\n",
        "from nltk.stem import WordNetLemmatizer\n",
        "import tensorflow as tf\n",
        "from sklearn.preprocessing import LabelBinarizer, LabelEncoder\n",
        "from keras.callbacks import EarlyStopping\n",
        "import pickle\n",
        "from nltk.sentiment.vader import SentimentIntensityAnalyzer\n",
        "from tabulate import tabulate\n",
        "nltk.download('vader_lexicon')\n",
        "nltk.download('stopwords')\n",
        "nltk.download('wordnet')\n",
        "nltk.download('punkt')"
      ],
      "metadata": {
        "id": "TKEZRYhIImbg",
        "colab": {
          "base_uri": "https://localhost:8080/"
        },
        "outputId": "8d9190d2-fe0b-47a8-9ef5-c3365854cde8"
      },
      "execution_count": 2,
      "outputs": [
        {
          "output_type": "stream",
          "name": "stderr",
          "text": [
            "[nltk_data] Downloading package vader_lexicon to /root/nltk_data...\n",
            "[nltk_data] Downloading package stopwords to /root/nltk_data...\n",
            "[nltk_data]   Unzipping corpora/stopwords.zip.\n",
            "[nltk_data] Downloading package wordnet to /root/nltk_data...\n",
            "[nltk_data] Downloading package punkt to /root/nltk_data...\n",
            "[nltk_data]   Unzipping tokenizers/punkt.zip.\n"
          ]
        },
        {
          "output_type": "execute_result",
          "data": {
            "text/plain": [
              "True"
            ]
          },
          "metadata": {},
          "execution_count": 2
        }
      ]
    },
    {
      "cell_type": "markdown",
      "source": [
        "**Define my student id as a variable**"
      ],
      "metadata": {
        "id": "pd5kSsAPZoE6"
      }
    },
    {
      "cell_type": "code",
      "source": [
        "student_id = 2200846 # My Student id"
      ],
      "metadata": {
        "id": "rqP6pp_3ZkVy"
      },
      "execution_count": 3,
      "outputs": []
    },
    {
      "cell_type": "markdown",
      "source": [
        "## set `seed` for all libraries"
      ],
      "metadata": {
        "id": "RiLUrQ-3zC6V"
      }
    },
    {
      "cell_type": "code",
      "source": [
        "# set same seeds for all libraries\n",
        "print('Setting seed for all librraies...')\n",
        "np.random.seed(student_id)\n",
        "seed= student_id\n",
        "print('done!')"
      ],
      "metadata": {
        "id": "TYUn2tj3zCFq",
        "colab": {
          "base_uri": "https://localhost:8080/"
        },
        "outputId": "8fda7718-bd12-4d8f-cab8-646432411b47"
      },
      "execution_count": 4,
      "outputs": [
        {
          "output_type": "stream",
          "name": "stdout",
          "text": [
            "Setting seed for all librraies...\n",
            "done!\n"
          ]
        }
      ]
    },
    {
      "cell_type": "markdown",
      "source": [
        "# Common Codes \n",
        "\n"
      ],
      "metadata": {
        "id": "Dlj_VQrkbLgM"
      }
    },
    {
      "cell_type": "markdown",
      "source": [
        "## **GDrive access**"
      ],
      "metadata": {
        "id": "uOESFmIPn_nr"
      }
    },
    {
      "cell_type": "code",
      "source": [
        "# Mount Google Drive\n",
        "print('mounting GDrive...')\n",
        "from google.colab import drive\n",
        "drive.mount('/content/gdrive', force_remount=True)"
      ],
      "metadata": {
        "id": "L1kvIe1NbDoS",
        "colab": {
          "base_uri": "https://localhost:8080/"
        },
        "outputId": "63edc48a-585d-44bc-92ab-16b850861f98"
      },
      "execution_count": 5,
      "outputs": [
        {
          "output_type": "stream",
          "name": "stdout",
          "text": [
            "mounting GDrive...\n",
            "Mounted at /content/gdrive\n"
          ]
        }
      ]
    },
    {
      "cell_type": "markdown",
      "source": [
        "## **Set global variables**"
      ],
      "metadata": {
        "id": "nbSU0C-laQDK"
      }
    },
    {
      "cell_type": "markdown",
      "source": [
        "\n",
        "*   Set data and model path\n",
        "*   Splitting the original dataset into 4 subsets - [25%, 50%, 75%, 100%]\n",
        "\n"
      ],
      "metadata": {
        "id": "QC9K2-2tROdD"
      }
    },
    {
      "cell_type": "code",
      "source": [
        "print('All the directories and global variables are defined-->')\n",
        "\n",
        "# Defining the Paths\n",
        "GOOGLE_DRIVE_PATH_AFTER_MYDRIVE = os.path.join('./CE807/Assignment2/', str(student_id))\n",
        "GOOGLE_DRIVE_PATH = os.path.join('gdrive', 'MyDrive', GOOGLE_DRIVE_PATH_AFTER_MYDRIVE)\n",
        "print('Google Drive path: ', GOOGLE_DRIVE_PATH)\n",
        "\n",
        "# Check the contents of the Google Drive directory\n",
        "print('Contents of Google Drive directory:')\n",
        "print(os.listdir(GOOGLE_DRIVE_PATH))\n",
        "\n",
        "# Load the training dataset from a CSV file\n",
        "train_100_file = os.path.join(GOOGLE_DRIVE_PATH, 'train.csv')\n",
        "df = pd.read_csv(train_100_file)\n",
        "\n",
        "\n",
        "# Recursively divide the data into four splits\n",
        "def recursive_split(df, seed):\n",
        "    \"\"\"\n",
        "    Recursively splits a dataset into sizes of [25%, 50%, 75%, and 100%]\n",
        "    while maintaining the class distribution of the original dataset.\n",
        "\n",
        "    Args:\n",
        "        df (pd.DataFrame): The input dataset.\n",
        "        test_size (float): The size of the test set in each split. Default: 0.25.\n",
        "\n",
        "    Returns:\n",
        "        A dictionary containing the 4 splits of the dataset.\n",
        "    \"\"\"\n",
        "    # Separate the DataFrame into positive and negative classes\n",
        "    pos_df = df[df['label'] == 'OFF']\n",
        "    neg_df = df[df['label'] == 'NOT']\n",
        "\n",
        "    # Shuffle the positive and negative classes separately\n",
        "    pos = pos_df.sample(frac=1, random_state=seed)\n",
        "    neg = neg_df.sample(frac=1, random_state=seed)\n",
        "\n",
        "    # Define the sizes of the subsets\n",
        "    subset_sizes = [0.25, 0.5, 0.75, 1.0]\n",
        "\n",
        "    # Initialize lists to store the resulting subsets\n",
        "    subsets = [[] for _ in subset_sizes]\n",
        "\n",
        "    # Loop through the subsets\n",
        "    for i, subset_size in enumerate(subset_sizes):\n",
        "        # Calculate the number of positive and negative examples in the subset\n",
        "        pos_subset_size = int(np.ceil(subset_size * len(pos)))\n",
        "        neg_subset_size = int(np.ceil(subset_size * len(neg)))\n",
        "\n",
        "        # Extract the positive and negative examples for the subset\n",
        "        pos_subset = pos_df[:pos_subset_size]\n",
        "        neg_subset = neg_df[:neg_subset_size]\n",
        "\n",
        "        # Concatenate the positive and negative subsets\n",
        "        subset = pd.concat([pos_subset, neg_subset])\n",
        "\n",
        "        # Shuffle the subset\n",
        "        subset = subset.sample(frac=1, random_state=seed)\n",
        "\n",
        "        # Store the resulting subset in the corresponding list\n",
        "        subsets[i] = subset\n",
        "    train_25, train_50, train_75, train_100 = subsets\n",
        "\n",
        "    return train_25, train_50, train_75, train_100\n",
        "\n",
        "# function usage\n",
        "# Assign the resulting subsets to separate variables\n",
        "train_25, train_50, train_75, train_100 = recursive_split(df, seed)\n",
        "\n",
        "# Verify that the class distributions are maintained\n",
        "# Calculate and print the class distribution for each split\n",
        "print('Original dataset class distribution:')\n",
        "print(df['label'].value_counts(normalize=True))\n",
        "print('Total Count : ', len(df.index))\n",
        "print()\n",
        "\n",
        "print('Train Dataset Statistics of Different Size :')\n",
        "table1 = [['25%', len(train_25.index), (train_25['label'].value_counts(normalize=True)['OFF'])*100, (train_25['label'].value_counts(normalize=True)['NOT'])*100],\n",
        "          ['50%', len(train_50.index), (train_50['label'].value_counts(normalize=True)['OFF'])*100, (train_50['label'].value_counts(normalize=True)['NOT'])*100],\n",
        "          ['75%', len(train_75.index), (train_75['label'].value_counts(normalize=True)['OFF'])*100, (train_75['label'].value_counts(normalize=True)['NOT'])*100],\n",
        "          ['100%', len(df.index), (df['label'].value_counts(normalize=True)['OFF'])*100, (df['label'].value_counts(normalize=True)['NOT'])*100]]\n",
        "print(tabulate(table1, headers=['Data %', 'Total', '% OFF', '% NOT'], tablefmt='orgtbl'))\n",
        "print('\\n')\n",
        "\n",
        "print('Saving the files=============>')\n",
        "# Save the divided subsets to CSV files\n",
        "train_25_file = os.path.join(GOOGLE_DRIVE_PATH, 'train_25.csv')\n",
        "train_25.to_csv(train_25_file, index=False)\n",
        "print('Saved 25% of the training data to :', train_25_file)\n",
        "\n",
        "train_50_file = os.path.join(GOOGLE_DRIVE_PATH, 'train_50.csv')\n",
        "train_50.to_csv(train_50_file, index=False)\n",
        "print('Saved 50% of the training data to :', train_50_file)\n",
        "\n",
        "train_75_file = os.path.join(GOOGLE_DRIVE_PATH, 'train_75.csv')\n",
        "train_75.to_csv(train_75_file, index=False)\n",
        "print('Saved 75% of the training data to :', train_75_file)\n",
        "\n",
        "print('100% of the training data :', train_100_file)\n",
        "\n",
        "print('\\n')\n",
        "# Load the validation and test datasets from CSV files\n",
        "val_file = os.path.join(GOOGLE_DRIVE_PATH, 'valid.csv')\n",
        "print('Validation data :', val_file)\n",
        "print(pd.read_csv(val_file)['label'].value_counts(normalize=True))\n",
        "print('Total Count : ', len(pd.read_csv(val_file).index))\n",
        "print()\n",
        "print('\\n')\n",
        "test_file = os.path.join(GOOGLE_DRIVE_PATH, 'test.csv')\n",
        "print('Test data :', test_file)\n",
        "print(pd.read_csv(test_file)['label'].value_counts(normalize=True))\n",
        "print('Total Count : ', len(pd.read_csv(test_file).index))\n",
        "print()\n",
        "\n",
        "print('\\n')\n",
        "print('='*50)\n",
        "print('=====================Model 1=====================')\n",
        "print('\\n')\n",
        "\n",
        "MODEL_1_DIRECTORY = os.path.join(GOOGLE_DRIVE_PATH, 'models', '1') # Model 1 directory\n",
        "print('Model 1 directory: ', MODEL_1_DIRECTORY)\n",
        "\n",
        "MODEL_1_25_DIRECTORY = os.path.join(MODEL_1_DIRECTORY,'25') # Model 1 trained using 25% of train data directory\n",
        "print('Model 1 directory with 25% data: ', MODEL_1_25_DIRECTORY)\n",
        "\n",
        "model_1_25_output_test_file = os.path.join(MODEL_1_25_DIRECTORY, 'output_test.csv') # Output file using Model 1 trained using 25% of train data \n",
        "print('Output file name using model 1 using 25% of train data: ',model_1_25_output_test_file)\n",
        "\n",
        "MODEL_1_50_DIRECTORY = os.path.join(MODEL_1_DIRECTORY,'50') # Model 1 trained using 50% of train data directory\n",
        "print('Model 1 directory with 50% data: ', MODEL_1_50_DIRECTORY)\n",
        "\n",
        "model_1_50_output_test_file = os.path.join(MODEL_1_50_DIRECTORY, 'output_test.csv') # Output file using Model 1 trained using 50% of train data \n",
        "print('Output file name using model 1 using 50% of train data: ',model_1_50_output_test_file)\n",
        "\n",
        "MODEL_1_75_DIRECTORY = os.path.join(MODEL_1_DIRECTORY,'75') # Model 1 trained using 75% of train data directory\n",
        "print('Model 1 directory with 75% data: ', MODEL_1_75_DIRECTORY)\n",
        "\n",
        "model_1_75_output_test_file = os.path.join(MODEL_1_75_DIRECTORY, 'output_test.csv') # Output file using Model 1 trained using 75% of train data \n",
        "print('Output file name using model 1 using 75% of train data: ',model_1_75_output_test_file)\n",
        "\n",
        "MODEL_1_100_DIRECTORY = os.path.join(MODEL_1_DIRECTORY,'100') # Model 1 trained using 100% of train data directory\n",
        "print('Model 1 directory with 100% data: ', MODEL_1_100_DIRECTORY)\n",
        "\n",
        "model_1_100_output_test_file = os.path.join(MODEL_1_100_DIRECTORY, 'output_test.csv') # Output file using Model 1 trained using 100% of train data \n",
        "print('Output file name using model 1 using 100% of train data: ',model_1_100_output_test_file)\n",
        "\n",
        "print('\\n')\n",
        "print('='*50)\n",
        "print('=====================Model 2=====================')\n",
        "print('\\n')\n",
        "\n",
        "MODEL_2_DIRECTORY = os.path.join(GOOGLE_DRIVE_PATH, 'models', '2') # Model 2 directory\n",
        "print('Model 2 directory: ', MODEL_2_DIRECTORY)\n",
        "\n",
        "MODEL_2_25_DIRECTORY = os.path.join(MODEL_2_DIRECTORY,'25') # Model 2 trained using 25% of train data directory\n",
        "print('Model 2 directory with 25% data: ', MODEL_2_25_DIRECTORY)\n",
        "\n",
        "model_2_25_output_test_file = os.path.join(MODEL_2_25_DIRECTORY, 'output_test.csv') # Output file using Model 2 trained using 25% of train data \n",
        "print('Output file name using model 2 using 25% of train data: ',model_2_25_output_test_file)\n",
        "\n",
        "MODEL_2_50_DIRECTORY = os.path.join(MODEL_2_DIRECTORY,'50') # Model 2 trained using 50% of train data directory\n",
        "print('Model 2 directory with 50% data: ', MODEL_2_50_DIRECTORY)\n",
        "\n",
        "model_2_50_output_test_file = os.path.join(MODEL_2_50_DIRECTORY, 'output_test.csv') # Output file using Model 2 trained using 50% of train data \n",
        "print('Output file name using model 2 using 50% of train data: ',model_2_50_output_test_file)\n",
        "\n",
        "MODEL_2_75_DIRECTORY = os.path.join(MODEL_2_DIRECTORY,'75') # Model 2 trained using 75% of train data directory\n",
        "print('Model 2 directory with 75% data: ', MODEL_2_75_DIRECTORY)\n",
        "\n",
        "model_2_75_output_test_file = os.path.join(MODEL_2_75_DIRECTORY, 'output_test.csv') # Output file using Model 2 trained using 75% of train data \n",
        "print('Output file name using model 2 using 75% of train data: ',model_2_75_output_test_file)\n",
        "\n",
        "MODEL_2_100_DIRECTORY = os.path.join(MODEL_2_DIRECTORY,'100') # Model 2 trained using 100% of train data directory\n",
        "print('Model 2 directory with 100% data: ', MODEL_2_100_DIRECTORY)\n",
        "\n",
        "model_2_100_output_test_file = os.path.join(MODEL_2_100_DIRECTORY, 'output_test.csv') # Output file using Model 2 trained using 100% of train data \n",
        "print('Output file name using model 2 using 100% of train data: ',model_2_100_output_test_file)\n",
        "\n",
        "print('\\n')\n",
        "print('='*50)\n",
        "print('=====================Model 3=====================')\n",
        "print('\\n')\n",
        "\n",
        "MODEL_3_DIRECTORY = os.path.join(GOOGLE_DRIVE_PATH, 'models', '3') # Model 3 directory\n",
        "print('Model 3 directory: ', MODEL_3_DIRECTORY)\n",
        "\n",
        "MODEL_3_25_DIRECTORY = os.path.join(MODEL_3_DIRECTORY,'25') # Model 3 trained using 25% of train data directory\n",
        "print('Model 3 directory with 25% data: ', MODEL_3_25_DIRECTORY)\n",
        "\n",
        "model_3_25_output_test_file = os.path.join(MODEL_3_25_DIRECTORY, 'output_test.csv') # Output file using Model 3 trained using 25% of train data \n",
        "print('Output file name using model 3 using 25% of train data: ',model_3_25_output_test_file)\n",
        "\n",
        "MODEL_3_50_DIRECTORY = os.path.join(MODEL_3_DIRECTORY,'50') # Model 3 trained using 50% of train data directory\n",
        "print('Model 3 directory with 50% data: ', MODEL_3_50_DIRECTORY)\n",
        "\n",
        "model_3_50_output_test_file = os.path.join(MODEL_3_50_DIRECTORY, 'output_test.csv') # Output file using Model 3 trained using 50% of train data \n",
        "print('Output file name using model 3 using 50% of train data: ',model_3_50_output_test_file)\n",
        "\n",
        "MODEL_3_75_DIRECTORY = os.path.join(MODEL_3_DIRECTORY,'75') # Model 3 trained using 75% of train data directory\n",
        "print('Model 3 directory with 75% data: ', MODEL_3_75_DIRECTORY)\n",
        "\n",
        "model_3_75_output_test_file = os.path.join(MODEL_3_75_DIRECTORY, 'output_test.csv') # Output file using Model 3 trained using 75% of train data \n",
        "print('Output file name using model 3 using 75% of train data: ',model_3_75_output_test_file)\n",
        "\n",
        "MODEL_3_100_DIRECTORY = os.path.join(MODEL_3_DIRECTORY,'100') # Model 3 trained using 100% of train data directory\n",
        "print('Model 3 directory with 100% data: ', MODEL_3_100_DIRECTORY)\n",
        "\n",
        "model_3_100_output_test_file = os.path.join(MODEL_3_100_DIRECTORY, 'output_test.csv') # Output file using Model 3 trained using 100% of train data \n",
        "print('Output file name using model 3 using 100% of train data: ',model_3_100_output_test_file)"
      ],
      "metadata": {
        "colab": {
          "base_uri": "https://localhost:8080/"
        },
        "id": "-WKnbP3roLTj",
        "outputId": "1e358e0b-da36-4fde-9510-9a8432ef5769"
      },
      "execution_count": 12,
      "outputs": [
        {
          "output_type": "stream",
          "name": "stdout",
          "text": [
            "All the directories and global variables are defined-->\n",
            "Google Drive path:  gdrive/MyDrive/./CE807/Assignment2/2200846\n",
            "Contents of Google Drive directory:\n",
            "['code.ipynb', 'test.csv', 'valid.csv', 'train.csv', '.ipynb_checkpoints', 'models', 'train_25.csv', 'train_50.csv', 'train_75.csv']\n",
            "Original dataset class distribution:\n",
            "NOT    0.667668\n",
            "OFF    0.332332\n",
            "Name: label, dtype: float64\n",
            "Total Count :  12313\n",
            "\n",
            "Train Dataset Statistics of Different Size :\n",
            "| Data %   |   Total |   % OFF |   % NOT |\n",
            "|----------+---------+---------+---------|\n",
            "| 25%      |    3079 | 33.2251 | 66.7749 |\n",
            "| 50%      |    6157 | 33.2305 | 66.7695 |\n",
            "| 75%      |    9235 | 33.2323 | 66.7677 |\n",
            "| 100%     |   12313 | 33.2332 | 66.7668 |\n",
            "\n",
            "\n",
            "Saving the files=============>\n",
            "Saved 25% of the training data to : gdrive/MyDrive/./CE807/Assignment2/2200846/train_25.csv\n",
            "Saved 50% of the training data to : gdrive/MyDrive/./CE807/Assignment2/2200846/train_50.csv\n",
            "Saved 75% of the training data to : gdrive/MyDrive/./CE807/Assignment2/2200846/train_75.csv\n",
            "100% of the training data : gdrive/MyDrive/./CE807/Assignment2/2200846/train.csv\n",
            "\n",
            "\n",
            "Validation data : gdrive/MyDrive/./CE807/Assignment2/2200846/valid.csv\n",
            "NOT    0.667745\n",
            "OFF    0.332255\n",
            "Name: label, dtype: float64\n",
            "Total Count :  927\n",
            "\n",
            "\n",
            "\n",
            "Test data : gdrive/MyDrive/./CE807/Assignment2/2200846/test.csv\n",
            "NOT    0.72093\n",
            "OFF    0.27907\n",
            "Name: label, dtype: float64\n",
            "Total Count :  860\n",
            "\n",
            "\n",
            "\n",
            "==================================================\n",
            "=====================Model 1=====================\n",
            "\n",
            "\n",
            "Model 1 directory:  gdrive/MyDrive/./CE807/Assignment2/2200846/models/1\n",
            "Model 1 directory with 25% data:  gdrive/MyDrive/./CE807/Assignment2/2200846/models/1/25\n",
            "Output file name using model 1 using 25% of train data:  gdrive/MyDrive/./CE807/Assignment2/2200846/models/1/25/output_test.csv\n",
            "Model 1 directory with 50% data:  gdrive/MyDrive/./CE807/Assignment2/2200846/models/1/50\n",
            "Output file name using model 1 using 50% of train data:  gdrive/MyDrive/./CE807/Assignment2/2200846/models/1/50/output_test.csv\n",
            "Model 1 directory with 75% data:  gdrive/MyDrive/./CE807/Assignment2/2200846/models/1/75\n",
            "Output file name using model 1 using 75% of train data:  gdrive/MyDrive/./CE807/Assignment2/2200846/models/1/75/output_test.csv\n",
            "Model 1 directory with 100% data:  gdrive/MyDrive/./CE807/Assignment2/2200846/models/1/100\n",
            "Output file name using model 1 using 100% of train data:  gdrive/MyDrive/./CE807/Assignment2/2200846/models/1/100/output_test.csv\n",
            "\n",
            "\n",
            "==================================================\n",
            "=====================Model 2=====================\n",
            "\n",
            "\n",
            "Model 2 directory:  gdrive/MyDrive/./CE807/Assignment2/2200846/models/2\n",
            "Model 2 directory with 25% data:  gdrive/MyDrive/./CE807/Assignment2/2200846/models/2/25\n",
            "Output file name using model 2 using 25% of train data:  gdrive/MyDrive/./CE807/Assignment2/2200846/models/2/25/output_test.csv\n",
            "Model 2 directory with 50% data:  gdrive/MyDrive/./CE807/Assignment2/2200846/models/2/50\n",
            "Output file name using model 2 using 50% of train data:  gdrive/MyDrive/./CE807/Assignment2/2200846/models/2/50/output_test.csv\n",
            "Model 2 directory with 75% data:  gdrive/MyDrive/./CE807/Assignment2/2200846/models/2/75\n",
            "Output file name using model 2 using 75% of train data:  gdrive/MyDrive/./CE807/Assignment2/2200846/models/2/75/output_test.csv\n",
            "Model 2 directory with 100% data:  gdrive/MyDrive/./CE807/Assignment2/2200846/models/2/100\n",
            "Output file name using model 2 using 100% of train data:  gdrive/MyDrive/./CE807/Assignment2/2200846/models/2/100/output_test.csv\n",
            "\n",
            "\n",
            "==================================================\n",
            "=====================Model 3=====================\n",
            "\n",
            "\n",
            "Model 3 directory:  gdrive/MyDrive/./CE807/Assignment2/2200846/models/3\n",
            "Model 3 directory with 25% data:  gdrive/MyDrive/./CE807/Assignment2/2200846/models/3/25\n",
            "Output file name using model 3 using 25% of train data:  gdrive/MyDrive/./CE807/Assignment2/2200846/models/3/25/output_test.csv\n",
            "Model 3 directory with 50% data:  gdrive/MyDrive/./CE807/Assignment2/2200846/models/3/50\n",
            "Output file name using model 3 using 50% of train data:  gdrive/MyDrive/./CE807/Assignment2/2200846/models/3/50/output_test.csv\n",
            "Model 3 directory with 75% data:  gdrive/MyDrive/./CE807/Assignment2/2200846/models/3/75\n",
            "Output file name using model 3 using 75% of train data:  gdrive/MyDrive/./CE807/Assignment2/2200846/models/3/75/output_test.csv\n",
            "Model 3 directory with 100% data:  gdrive/MyDrive/./CE807/Assignment2/2200846/models/3/100\n",
            "Output file name using model 3 using 100% of train data:  gdrive/MyDrive/./CE807/Assignment2/2200846/models/3/100/output_test.csv\n"
          ]
        }
      ]
    },
    {
      "cell_type": "markdown",
      "source": [
        "## **Exploring the dataset file**"
      ],
      "metadata": {
        "id": "0pWvXDghtafa"
      }
    },
    {
      "cell_type": "code",
      "source": [
        "print('EDA of the training dataset :')\n",
        "print(df.head())\n",
        "print('\\n')\n",
        "\n",
        "# Print the shape of the dataset\n",
        "print('Shape of the dataset :')\n",
        "print(df.shape)\n",
        "print('\\n')\n",
        "\n",
        "# Check for missing values\n",
        "print('Check missing values :')\n",
        "print(df.isna().sum())\n",
        "print('\\n')\n",
        "\n",
        "# Print descriptive statistics for the dataset\n",
        "print('descriptive statistics for the dataset :')\n",
        "print(df.describe())\n",
        "\n",
        "# Plot the distribution of classes\n",
        "sns.countplot(x='label', data=df)\n",
        "plt.title('Class distribution')\n",
        "plt.show()\n",
        "print('\\n')\n",
        "\n",
        "print('Label Count Distribution :')\n",
        "print('No. of tweets Offensive (OFF) are', len(df[df.label=='OFF']))\n",
        "print('No. of tweets Not Offensive (NOT) are', len(df[df.label=='NOT']))"
      ],
      "metadata": {
        "colab": {
          "base_uri": "https://localhost:8080/",
          "height": 1000
        },
        "id": "DE20RqYGtZjZ",
        "outputId": "9eaf1d7d-09ec-4406-fea6-1de28baff3ad"
      },
      "execution_count": 13,
      "outputs": [
        {
          "output_type": "stream",
          "name": "stdout",
          "text": [
            "EDA of the training dataset :\n",
            "      id                                              tweet label\n",
            "0  42884  @USER I’m done with you as well. An INTENTIONA...   NOT\n",
            "1  92152  I now have over 6k followers.  Only 94k to go ...   NOT\n",
            "2  65475  @USER Tom was bought! He is more interested in...   NOT\n",
            "3  22144  @USER @USER Even her brother thinks she is a m...   OFF\n",
            "4  81048  @USER @USER @USER @USER @USER I can understand...   OFF\n",
            "\n",
            "\n",
            "Shape of the dataset :\n",
            "(12313, 3)\n",
            "\n",
            "\n",
            "Check missing values :\n",
            "id       0\n",
            "tweet    0\n",
            "label    0\n",
            "dtype: int64\n",
            "\n",
            "\n",
            "descriptive statistics for the dataset :\n",
            "                 id\n",
            "count  12313.000000\n",
            "mean   54937.978640\n",
            "std    26079.349786\n",
            "min    10006.000000\n",
            "25%    32275.000000\n",
            "50%    54953.000000\n",
            "75%    77777.000000\n",
            "max    99986.000000\n"
          ]
        },
        {
          "output_type": "display_data",
          "data": {
            "text/plain": [
              "<Figure size 640x480 with 1 Axes>"
            ],
            "image/png": "[encoded data removed]"
          },
          "metadata": {}
        },
        {
          "output_type": "stream",
          "name": "stdout",
          "text": [
            "\n",
            "\n",
            "Label Count Distribution :\n",
            "No. of tweets Offensive (OFF) are 4092\n",
            "No. of tweets Not Offensive (NOT) are 8221\n"
          ]
        }
      ]
    },
    {
      "cell_type": "markdown",
      "source": [
        "## Functions"
      ],
      "metadata": {
        "id": "tc_kYoDPE4KK"
      }
    },
    {
      "cell_type": "code",
      "source": [
        "def compute_performance(y_true, y_pred):\n",
        "    \"\"\"\n",
        "    Computes performance metrics and displays them in a table.\n",
        "\n",
        "    Args:\n",
        "        y_true: numpy array or list - true labels\n",
        "        y_pred: numpy array or list - predicted labels\n",
        "\n",
        "    Returns:\n",
        "        float - F1 score\n",
        "    \"\"\"\n",
        "    # Calculate performance metrics\n",
        "    acc = accuracy_score(y_true, y_pred)\n",
        "    rec = recall_score(y_true, y_pred, average='macro')\n",
        "    pre = precision_score(y_true, y_pred, average='macro')\n",
        "    f1 = f1_score(y_true, y_pred, average='macro')\n",
        "\n",
        "    # Create table\n",
        "    table = [['Accuracy', round(acc, 4)],\n",
        "             ['Recall', round(rec, 4)],\n",
        "             ['Precision', round(pre, 4)],\n",
        "             ['F1 Score', round(f1, 4)]]\n",
        "\n",
        "    # Print table\n",
        "    print(tabulate(table, headers=['Metric', 'Value'], tablefmt='orgtbl'))\n",
        "\n",
        "    # Plot confusion matrix\n",
        "    cm = confusion_matrix(y_true, y_pred)\n",
        "    plt.figure(figsize=(6, 4))\n",
        "    sns.heatmap(cm, annot=True, cmap='Blues', fmt='d')\n",
        "    plt.xlabel('Predicted Labels')\n",
        "    plt.ylabel('True Labels')\n",
        "    plt.show()\n",
        "\n",
        "    # Return F1 score\n",
        "    return f1"
      ],
      "metadata": {
        "id": "aLuUu5BWcTid"
      },
      "execution_count": 14,
      "outputs": []
    },
    {
      "cell_type": "code",
      "source": [
        "def clean_text(data):\n",
        "    \"\"\"\n",
        "    Preprocesses the training, testing, and validation data by nltk\n",
        "\n",
        "    Args:\n",
        "        data (str): The path to the data file.\n",
        "\n",
        "    Returns:\n",
        "        tuple: A tuple containing the preprocessed training, testing, and validation data, as well\n",
        "            as the vectorizer.\n",
        "    \"\"\"\n",
        "    # Load the data from the files\n",
        "    # Tokenize the text data using NLTK\n",
        "    data['tweet'] = data['tweet'].apply(lambda x: word_tokenize(x))\n",
        "\n",
        "    # Remove stop words using NLTK\n",
        "    stop_words = set(stopwords.words('english'))\n",
        "    data['tweet'] = data['tweet'].apply(lambda x: [word for word in x if word.lower() not in stop_words])\n",
        "\n",
        "    # Combine the tokenized text data back into strings\n",
        "    data['tweet'] = data['tweet'].apply(lambda x: ' '.join(x))\n",
        "    return data"
      ],
      "metadata": {
        "id": "bU1dcEzyiyuT"
      },
      "execution_count": 15,
      "outputs": []
    },
    {
      "cell_type": "code",
      "source": [
        "def vectorizing(train_file):\n",
        "    \"\"\"\n",
        "    Vectorizing the text data in the training file using TfidfVectorizer. Save the vectorizer\n",
        "\n",
        "    Args:\n",
        "        train_file (str): The path to the training data file.\n",
        "\n",
        "    Returns:\n",
        "        tuple: A tuple containing the preprocessed training and as well as the vectorizer.\n",
        "    \"\"\"\n",
        "\n",
        "    # Vectorize the text data using TfidfVectorizer\n",
        "    vectorizer = TfidfVectorizer()\n",
        "    X_train = vectorizer.fit_transform(train_file[\"tweet\"])\n",
        "    y_train = train_file[\"label\"]\n",
        "    return X_train, y_train, vectorizer"
      ],
      "metadata": {
        "id": "2z7BHUtAIsPU"
      },
      "execution_count": 16,
      "outputs": []
    },
    {
      "cell_type": "markdown",
      "source": [
        "# Method 1 Start\n"
      ],
      "metadata": {
        "id": "47ywe8jGSKhL"
      }
    },
    {
      "cell_type": "markdown",
      "source": [
        "**This method, preprocesse the data with NLTK and TFIDF vectorizer and trains a Support Vector Machine (SVM) model.**"
      ],
      "metadata": {
        "id": "nD3ekHieXvjO"
      }
    },
    {
      "cell_type": "markdown",
      "source": [
        "## Training Method 1 Code\n"
      ],
      "metadata": {
        "id": "1sA3OWlVbnoY"
      }
    },
    {
      "cell_type": "code",
      "source": [
        "def train_method1(train_file, val_file, model_dir):\n",
        "    \"\"\"\n",
        "    Trains a Support Vector Machine model using the preprocessed training data and saves the\n",
        "    trained model to disk. Prints computed evaluation matrics\n",
        "\n",
        "    Args:\n",
        "        train_file (str): The path to the preprocessed training data file.\n",
        "        val_file (str): The path to the preprocessed validation data file.\n",
        "        model_dir (str): The path to the directory where the trained model will be saved.\n",
        "    \"\"\"\n",
        "\n",
        "    print('========================TRAINING METHOD 1========================')\n",
        "    # Load the dataset\n",
        "    train_data = pd.read_csv(train_file)\n",
        "    val_data = pd.read_csv(val_file)\n",
        "\n",
        "    # Clean the data\n",
        "    train_data = clean_text(train_data)\n",
        "    val_data = clean_text(val_data)\n",
        "\n",
        "    # Vectorize the data\n",
        "    X_train, y_train, vectorizer = vectorizing(train_data)\n",
        "    vec_path = os.path.join(model_dir, \"vec.sav\")\n",
        "    joblib.dump(vectorizer, vec_path)\n",
        "\n",
        "    X_val = vectorizer.transform(val_data['tweet'])\n",
        "    y_val = val_data['label']\n",
        "\n",
        "\n",
        "\n",
        "    # Train a Support Vector Machine model\n",
        "    model = svm.SVC()\n",
        "    model.fit(X_train, y_train)\n",
        "\n",
        "    # Save the trained model to disk\n",
        "    if not os.path.exists(model_dir):\n",
        "        os.makedirs(model_dir)\n",
        "    model_path = os.path.join(model_dir, \"model.sav\")\n",
        "    joblib.dump(model, model_path)\n",
        "\n",
        "    # Predict on the validation set\n",
        "    y_pred_val = model.predict(X_val)\n",
        "\n",
        "      \n",
        "    print('\\n')\n",
        "    print('Evaluation------------->')\n",
        "    compute_performance(y_val, y_pred_val)\n",
        "\n",
        "\n",
        "    print(f\"Model saved to {model_path}\")\n",
        "\n",
        "    return\n"
      ],
      "metadata": {
        "id": "_Ux7GBKXbqq6"
      },
      "execution_count": 17,
      "outputs": []
    },
    {
      "cell_type": "markdown",
      "source": [
        "## Testing Method 1 Code"
      ],
      "metadata": {
        "id": "qyJ_xv12Uy9c"
      }
    },
    {
      "cell_type": "code",
      "source": [
        "def test_method1(test_file, model_file, output_dir):\n",
        "    \"\"\"\n",
        "    Loads a trained model from disk and evaluates it on the test data. Saves the\n",
        "    classification report to disk.\n",
        "\n",
        "    Args:\n",
        "        test_file (str): The path to the preprocessed test data file.\n",
        "        model_file (str): The path to the trained model file.\n",
        "        output_dir (str): The path to the directory where the classification report will be saved.\n",
        "    \"\"\"\n",
        "    print('========================TESTING METHOD 1========================')\n",
        "\n",
        "    # Load test data\n",
        "    test_data = pd.read_csv(test_file)\n",
        "    \n",
        "    # Load the trained model and vectorizer\n",
        "    model = joblib.load(os.path.join(model_file, \"model.sav\"))\n",
        "    vectorizer = joblib.load(os.path.join(model_file, \"vec.sav\"))\n",
        "\n",
        "    # Preprocess the test data\n",
        "    test_data = clean_text(test_data)\n",
        "\n",
        "    # Vectorize the data\n",
        "    X_test = vectorizer.transform(test_data['tweet'])\n",
        "    y_test = test_data['label']\n",
        "\n",
        "    # Make predictions on the test data\n",
        "    y_pred_test = model.predict(X_test)\n",
        "\n",
        "    print('\\n')\n",
        "    print('Evaluation------------->')\n",
        "    # Compute Evaluation Matrics\n",
        "    compute_performance(y_test, y_pred_test)\n",
        "\n",
        "\n",
        "    # Save predictions to output file\n",
        "    test_data['out_label'] = y_pred_test\n",
        "    test_data.to_csv(output_dir, index=False)\n",
        "    print(test_data)\n",
        "    print(\"Testing completed successfully!\")\n",
        "    return "
      ],
      "metadata": {
        "id": "43T3JqK5a484"
      },
      "execution_count": 18,
      "outputs": []
    },
    {
      "cell_type": "markdown",
      "source": [
        "**Implementing the functions**"
      ],
      "metadata": {
        "id": "3CsJM2B1d4pu"
      }
    },
    {
      "cell_type": "code",
      "source": [
        "training_data = [\n",
        "    (train_25_file, MODEL_1_25_DIRECTORY, model_1_25_output_test_file, '25%'),\n",
        "    (train_50_file, MODEL_1_50_DIRECTORY, model_1_50_output_test_file, '50%'),\n",
        "    (train_75_file, MODEL_1_75_DIRECTORY, model_1_75_output_test_file, '75%'),\n",
        "    (train_100_file, MODEL_1_100_DIRECTORY, model_1_100_output_test_file, '100%')\n",
        "]\n",
        "\n",
        "for data in training_data:\n",
        "    train_file, model_dir, output_file, data_label = data\n",
        "    print(f'=====Training on {data_label} of the dataset=====')\n",
        "    train_method1(train_file, val_file, model_dir)\n",
        "    print('\\n')\n",
        "    print('='*100)\n",
        "    print('\\n')"
      ],
      "metadata": {
        "id": "igcQILL5RRZw",
        "colab": {
          "base_uri": "https://localhost:8080/",
          "height": 1000
        },
        "outputId": "9628d6cf-79b6-4693-9f19-917dbde15e7c"
      },
      "execution_count": 19,
      "outputs": [
        {
          "output_type": "stream",
          "name": "stdout",
          "text": [
            "=====Training on 25% of the dataset=====\n",
            "========================TRAINING METHOD 1========================\n",
            "\n",
            "\n",
            "Evaluation------------->\n",
            "| Metric    |   Value |\n",
            "|-----------+---------|\n",
            "| Accuracy  |  0.7238 |\n",
            "| Recall    |  0.5966 |\n",
            "| Precision |  0.7659 |\n",
            "| F1 Score  |  0.5844 |\n"
          ]
        },
        {
          "output_type": "display_data",
          "data": {
            "text/plain": [
              "<Figure size 600x400 with 2 Axes>"
            ],
            "image/png": "[encoded data removed]"
          },
          "metadata": {}
        },
        {
          "output_type": "stream",
          "name": "stdout",
          "text": [
            "Model saved to gdrive/MyDrive/./CE807/Assignment2/2200846/models/1/25/model.sav\n",
            "\n",
            "\n",
            "====================================================================================================\n",
            "\n",
            "\n",
            "=====Training on 50% of the dataset=====\n",
            "========================TRAINING METHOD 1========================\n",
            "\n",
            "\n",
            "Evaluation------------->\n",
            "| Metric    |   Value |\n",
            "|-----------+---------|\n",
            "| Accuracy  |  0.74   |\n",
            "| Recall    |  0.6275 |\n",
            "| Precision |  0.7643 |\n",
            "| F1 Score  |  0.6297 |\n"
          ]
        },
        {
          "output_type": "display_data",
          "data": {
            "text/plain": [
              "<Figure size 600x400 with 2 Axes>"
            ],
            "image/png": "[encoded data removed]"
          },
          "metadata": {}
        },
        {
          "output_type": "stream",
          "name": "stdout",
          "text": [
            "Model saved to gdrive/MyDrive/./CE807/Assignment2/2200846/models/1/50/model.sav\n",
            "\n",
            "\n",
            "====================================================================================================\n",
            "\n",
            "\n",
            "=====Training on 75% of the dataset=====\n",
            "========================TRAINING METHOD 1========================\n",
            "\n",
            "\n",
            "Evaluation------------->\n",
            "| Metric    |   Value |\n",
            "|-----------+---------|\n",
            "| Accuracy  |  0.7508 |\n",
            "| Recall    |  0.6487 |\n",
            "| Precision |  0.7651 |\n",
            "| F1 Score  |  0.6574 |\n"
          ]
        },
        {
          "output_type": "display_data",
          "data": {
            "text/plain": [
              "<Figure size 600x400 with 2 Axes>"
            ],
            "image/png": "[encoded data removed]"
          },
          "metadata": {}
        },
        {
          "output_type": "stream",
          "name": "stdout",
          "text": [
            "Model saved to gdrive/MyDrive/./CE807/Assignment2/2200846/models/1/75/model.sav\n",
            "\n",
            "\n",
            "====================================================================================================\n",
            "\n",
            "\n",
            "=====Training on 100% of the dataset=====\n",
            "========================TRAINING METHOD 1========================\n",
            "\n",
            "\n",
            "Evaluation------------->\n",
            "| Metric    |   Value |\n",
            "|-----------+---------|\n",
            "| Accuracy  |  0.7508 |\n",
            "| Recall    |  0.6535 |\n",
            "| Precision |  0.7553 |\n",
            "| F1 Score  |  0.6636 |\n"
          ]
        },
        {
          "output_type": "display_data",
          "data": {
            "text/plain": [
              "<Figure size 600x400 with 2 Axes>"
            ],
            "image/png": "[encoded data removed]"
          },
          "metadata": {}
        },
        {
          "output_type": "stream",
          "name": "stdout",
          "text": [
            "Model saved to gdrive/MyDrive/./CE807/Assignment2/2200846/models/1/100/model.sav\n",
            "\n",
            "\n",
            "====================================================================================================\n",
            "\n",
            "\n"
          ]
        }
      ]
    },
    {
      "cell_type": "markdown",
      "source": [
        "**The best model was when trained and evaluated on 25% training dataset**"
      ],
      "metadata": {
        "id": "XE8M9rZ1-kxX"
      }
    },
    {
      "cell_type": "code",
      "source": [
        "# testing on entire dataset\n",
        "test_method1(test_file, MODEL_1_25_DIRECTORY, model_1_25_output_test_file)"
      ],
      "metadata": {
        "colab": {
          "base_uri": "https://localhost:8080/",
          "height": 822
        },
        "id": "aKH81BD86R6Z",
        "outputId": "4442603a-6947-45e2-c13d-172219c15e2c"
      },
      "execution_count": 20,
      "outputs": [
        {
          "output_type": "stream",
          "name": "stdout",
          "text": [
            "========================TESTING METHOD 1========================\n",
            "\n",
            "\n",
            "Evaluation------------->\n",
            "| Metric    |   Value |\n",
            "|-----------+---------|\n",
            "| Accuracy  |  0.7826 |\n",
            "| Recall    |  0.6194 |\n",
            "| Precision |  0.8343 |\n",
            "| F1 Score  |  0.6293 |\n"
          ]
        },
        {
          "output_type": "display_data",
          "data": {
            "text/plain": [
              "<Figure size 600x400 with 2 Axes>"
            ],
            "image/png": "[encoded data removed]"
          },
          "metadata": {}
        },
        {
          "output_type": "stream",
          "name": "stdout",
          "text": [
            "        id                                              tweet label out_label\n",
            "0    15923  # WhoIsQ # WheresTheServer # DumpNike # DECLAS...   OFF       NOT\n",
            "1    27014  # ConstitutionDay revered Conservatives , hate...   NOT       NOT\n",
            "2    30530  # FOXNews # NRA # MAGA # POTUS # TRUMP # 2ndAm...   NOT       NOT\n",
            "3    13876  # Watching # Boomer getting news still parole ...   NOT       NOT\n",
            "4    60133  # NoPasaran : Unity demo oppose far-right # Lo...   OFF       NOT\n",
            "..     ...                                                ...   ...       ...\n",
            "855  73439  # DespicableDems lie rifles . Dem Distorted La...   OFF       NOT\n",
            "856  25657  # MeetTheSpeakers 🙌 @ USER present event OIW 2...   NOT       NOT\n",
            "857  67018  3 people unfollowed talking merlin sorry y'all...   OFF       OFF\n",
            "858  50665  # WednesdayWisdom Antifa calls right fascist ,...   NOT       NOT\n",
            "859  24583   # Kavanaugh typical # liberals , # Democrats URL   NOT       NOT\n",
            "\n",
            "[860 rows x 4 columns]\n",
            "Testing completed successfully!\n"
          ]
        }
      ]
    },
    {
      "cell_type": "markdown",
      "source": [
        "## Method 1 End\n"
      ],
      "metadata": {
        "id": "ue3xIDFGSXNH"
      }
    },
    {
      "cell_type": "markdown",
      "source": [
        "# Method 2 Start\n",
        "\n"
      ],
      "metadata": {
        "id": "o5jNIHneSfzg"
      }
    },
    {
      "cell_type": "markdown",
      "source": [
        "**This method preprocess the data with NLTK and TensorFlow's tokenizer and trains a BiLSTM model**"
      ],
      "metadata": {
        "id": "GzuhwS5iaRyZ"
      }
    },
    {
      "cell_type": "markdown",
      "source": [
        "## Training Method 2 Code\n"
      ],
      "metadata": {
        "id": "zAkC0CWAc1BY"
      }
    },
    {
      "cell_type": "code",
      "source": [
        "def train_method2(train_file, val_file, model_dir):\n",
        "    \"\"\"\n",
        "    The function loads the training and validation data, cleans the data using NLTK, tokenizes it TensorFlow’s tokenizer, \n",
        "    and pads the sequences to ensure they are all the same length. \n",
        "    It also converts the labels to one-hot vectors.\n",
        "    Trains a Bidirectional LSTM model using the training data and saves the\n",
        "    trained model to disk.\n",
        "\n",
        "    Args:\n",
        "        train_file (str): The path to the preprocessed training data file.\n",
        "        val_file (str): The path to the preprocessed validation data file.\n",
        "        model_dir (str): The path to the directory where the trained model will be saved.\n",
        "    \"\"\"\n",
        "\n",
        "    print('========================TRAINING METHOD 2========================')\n",
        "    # Load the dataset\n",
        "    train_data = pd.read_csv(train_file)\n",
        "    val_data = pd.read_csv(val_file)\n",
        "\n",
        "    # Clean the data\n",
        "    train_data = clean_text(train_data)\n",
        "    val_data = clean_text(val_data)\n",
        "\n",
        "    # Tokenize the data\n",
        "    tokenizer = Tokenizer(num_words=10000)\n",
        "    tokenizer.fit_on_texts(train_data['tweet'])\n",
        "    X_train = tokenizer.texts_to_sequences(train_data['tweet'])\n",
        "    X_val = tokenizer.texts_to_sequences(val_data['tweet'])\n",
        "\n",
        "    # Pad sequences\n",
        "    max_len =100\n",
        "    X_train = pad_sequences(X_train, maxlen=max_len)\n",
        "    X_val = pad_sequences(X_val, maxlen=max_len)\n",
        "\n",
        "    # Convert labels to one-hot vectors\n",
        "    y_train = pd.get_dummies(train_data['label']).values\n",
        "    y_val = pd.get_dummies(val_data['label']).values\n",
        "\n",
        "    # Define the model\n",
        "    model = Sequential([\n",
        "        Embedding(input_dim=10000, output_dim=128, input_length=max_len),\n",
        "        Bidirectional(LSTM(units=64, return_sequences=True)),\n",
        "        Dropout(0.2),\n",
        "        Bidirectional(LSTM(units=32)),\n",
        "        Dropout(0.2),\n",
        "        Dense(units=2, activation='softmax')\n",
        "    ])\n",
        "    model.compile(optimizer='adam', loss='categorical_crossentropy', metrics=['accuracy'])\n",
        "\n",
        "    # Train the model\n",
        "    history = model.fit(X_train, y_train, validation_data=(X_val, y_val), epochs=10, batch_size=32)\n",
        "\n",
        "    # Save the trained model to disk\n",
        "    if not os.path.exists(model_dir):\n",
        "        os.makedirs(model_dir)\n",
        "    model_path = os.path.join(model_dir, \"model.h5\")\n",
        "    joblib.dump(model, model_path)\n",
        "\n",
        "    # Save the tokenizer to disk\n",
        "    tokenizer_path = os.path.join(model_dir, \"tokenizer.pkl\")\n",
        "    joblib.dump(tokenizer, tokenizer_path)\n",
        "\n",
        "    # Evaluate the model\n",
        "    y_pred_val = model.predict(X_val)\n",
        "    y_pred_val = y_pred_val.argmax(axis=1)\n",
        "    y_val = y_val.argmax(axis=1)\n",
        "    \n",
        "    # Compute performance metrics\n",
        "    print('\\n')\n",
        "    print('Evaluation------------->')\n",
        "    compute_performance(y_val, y_pred_val)\n",
        "\n",
        "    print(f\"Model saved to {model_path}\")\n",
        "\n",
        "\n",
        "\n",
        "    return"
      ],
      "metadata": {
        "id": "FBjgEMUYZFzf"
      },
      "execution_count": 21,
      "outputs": []
    },
    {
      "cell_type": "markdown",
      "source": [
        "## Testing Method 2 Code"
      ],
      "metadata": {
        "id": "LVi2vGeZc5Fp"
      }
    },
    {
      "cell_type": "code",
      "source": [
        "def test_method2(test_file, model_file, output_dir):\n",
        "    \"\"\"\n",
        "      take test_file, model_file and output_dir as input.\n",
        "      It loads model and test of the examples in the test_file.\n",
        "      It prints different evaluation metrics, and saves the output in output directory\n",
        "\n",
        "      ADD Other arguments, if needed\n",
        "\n",
        "    Args:\n",
        "        test_file: test file name\n",
        "        model_file: model file name\n",
        "        output_dir: Output Directory\n",
        "        \n",
        "\n",
        "    \n",
        "    \"\"\"\n",
        "    print('\\n')\n",
        "    print('========================TESTING METHOD 2========================')\n",
        "    # Load test data\n",
        "    test_data = pd.read_csv(test_file)\n",
        "\n",
        "    # Clean the test data\n",
        "    test_data = clean_text(test_data)\n",
        "    \n",
        "    # Load the trained model and vectorizer\n",
        "    model = joblib.load(os.path.join(model_file, \"model.h5\"))\n",
        "    tokenizer = joblib.load(os.path.join(model_file, \"tokenizer.pkl\"))\n",
        "\n",
        "    # Tokenize the data\n",
        "    X_test = tokenizer.texts_to_sequences(test_data['tweet'])\n",
        "\n",
        "    # Pad sequences\n",
        "    max_len = 100\n",
        "    X_test = pad_sequences(X_test, maxlen=max_len)\n",
        "\n",
        "\n",
        "    # Make predictions on the test data\n",
        "    y_pred_test = model.predict(X_test)\n",
        "    y_pred_test = y_pred_test.argmax(axis=1)\n",
        "    y_test = pd.get_dummies(test_data['label']).values.argmax(axis=1)\n",
        "\n",
        "    # Compute evaluation matrics\n",
        "    print('\\n')\n",
        "    print('Evaluation------------->')\n",
        "    compute_performance(y_test, y_pred_test)\n",
        "\n",
        "\n",
        "    # Save predictions to output file\n",
        "    y_pred_test = np.where(y_pred_test==1, 'OFF', 'NOT') # Convert back to 'NOT' and 'OFF\n",
        "    test_data['out_label'] = y_pred_test\n",
        "    test_data.to_csv(output_dir, index=False)\n",
        "    print(test_data)\n",
        "    print(\"Testing completed successfully!\")\n",
        "\n",
        "    return"
      ],
      "metadata": {
        "id": "CZazNUArYh6t"
      },
      "execution_count": 22,
      "outputs": []
    },
    {
      "cell_type": "code",
      "source": [
        "training_data = [\n",
        "    (train_25_file, MODEL_2_25_DIRECTORY, model_2_25_output_test_file, '25%'),\n",
        "    (train_50_file, MODEL_2_50_DIRECTORY, model_2_50_output_test_file, '50%'),\n",
        "    (train_75_file, MODEL_2_75_DIRECTORY, model_2_75_output_test_file, '75%'),\n",
        "    (train_100_file, MODEL_2_100_DIRECTORY, model_2_100_output_test_file, '100%')\n",
        "]\n",
        "\n",
        "for data in training_data:\n",
        "    train_file, model_dir, output_file, data_label = data\n",
        "    print(f'=====Training on {data_label} of the dataset=====')\n",
        "    train_method2(train_file, val_file, model_dir)\n",
        "    print('\\n')\n",
        "    print('='*100)\n",
        "    print('\\n')"
      ],
      "metadata": {
        "colab": {
          "base_uri": "https://localhost:8080/",
          "height": 1000
        },
        "id": "JrsGFaLw4-Ni",
        "outputId": "25c64228-a614-4cae-d76c-47ce90f87738"
      },
      "execution_count": 23,
      "outputs": [
        {
          "output_type": "stream",
          "name": "stdout",
          "text": [
            "=====Training on 25% of the dataset=====\n",
            "========================TRAINING METHOD 2========================\n",
            "Epoch 1/10\n",
            "97/97 [==============================] - 34s 220ms/step - loss: 0.6204 - accuracy: 0.6687 - val_loss: 0.6214 - val_accuracy: 0.6893\n",
            "Epoch 2/10\n",
            "97/97 [==============================] - 8s 79ms/step - loss: 0.3580 - accuracy: 0.8493 - val_loss: 0.6001 - val_accuracy: 0.7206\n",
            "Epoch 3/10\n",
            "97/97 [==============================] - 8s 79ms/step - loss: 0.1272 - accuracy: 0.9630 - val_loss: 0.8742 - val_accuracy: 0.6915\n",
            "Epoch 4/10\n",
            "97/97 [==============================] - 4s 47ms/step - loss: 0.0508 - accuracy: 0.9847 - val_loss: 0.9770 - val_accuracy: 0.7174\n",
            "Epoch 5/10\n",
            "97/97 [==============================] - 4s 43ms/step - loss: 0.0389 - accuracy: 0.9909 - val_loss: 1.2278 - val_accuracy: 0.7152\n",
            "Epoch 6/10\n",
            "97/97 [==============================] - 4s 46ms/step - loss: 0.0307 - accuracy: 0.9919 - val_loss: 1.2638 - val_accuracy: 0.7044\n",
            "Epoch 7/10\n",
            "97/97 [==============================] - 3s 35ms/step - loss: 0.0254 - accuracy: 0.9942 - val_loss: 1.2057 - val_accuracy: 0.6926\n",
            "Epoch 8/10\n",
            "97/97 [==============================] - 3s 28ms/step - loss: 0.0203 - accuracy: 0.9958 - val_loss: 1.3176 - val_accuracy: 0.7217\n",
            "Epoch 9/10\n",
            "97/97 [==============================] - 3s 33ms/step - loss: 0.0136 - accuracy: 0.9974 - val_loss: 1.4364 - val_accuracy: 0.7087\n",
            "Epoch 10/10\n",
            "97/97 [==============================] - 3s 35ms/step - loss: 0.0191 - accuracy: 0.9942 - val_loss: 1.3145 - val_accuracy: 0.7087\n",
            "29/29 [==============================] - 2s 11ms/step\n",
            "\n",
            "\n",
            "Evaluation------------->\n",
            "| Metric    |   Value |\n",
            "|-----------+---------|\n",
            "| Accuracy  |  0.7087 |\n",
            "| Recall    |  0.64   |\n",
            "| Precision |  0.6665 |\n",
            "| F1 Score  |  0.6465 |\n"
          ]
        },
        {
          "output_type": "display_data",
          "data": {
            "text/plain": [
              "<Figure size 600x400 with 2 Axes>"
            ],
            "image/png": "[encoded data removed]"
          },
          "metadata": {}
        },
        {
          "output_type": "stream",
          "name": "stdout",
          "text": [
            "Model saved to gdrive/MyDrive/./CE807/Assignment2/2200846/models/2/25/model.h5\n",
            "\n",
            "\n",
            "====================================================================================================\n",
            "\n",
            "\n",
            "=====Training on 50% of the dataset=====\n",
            "========================TRAINING METHOD 2========================\n",
            "Epoch 1/10\n",
            "193/193 [==============================] - 30s 112ms/step - loss: 0.5975 - accuracy: 0.6919 - val_loss: 0.5304 - val_accuracy: 0.7487\n",
            "Epoch 2/10\n",
            "193/193 [==============================] - 11s 54ms/step - loss: 0.3641 - accuracy: 0.8478 - val_loss: 0.5860 - val_accuracy: 0.7540\n",
            "Epoch 3/10\n",
            "193/193 [==============================] - 5s 28ms/step - loss: 0.1964 - accuracy: 0.9311 - val_loss: 0.7481 - val_accuracy: 0.7346\n",
            "Epoch 4/10\n",
            "193/193 [==============================] - 7s 37ms/step - loss: 0.1089 - accuracy: 0.9641 - val_loss: 0.9100 - val_accuracy: 0.7184\n",
            "Epoch 5/10\n",
            "193/193 [==============================] - 5s 25ms/step - loss: 0.0661 - accuracy: 0.9818 - val_loss: 1.1540 - val_accuracy: 0.7001\n",
            "Epoch 6/10\n",
            "193/193 [==============================] - 5s 28ms/step - loss: 0.0464 - accuracy: 0.9872 - val_loss: 1.2733 - val_accuracy: 0.6893\n",
            "Epoch 7/10\n",
            "193/193 [==============================] - 6s 29ms/step - loss: 0.0322 - accuracy: 0.9901 - val_loss: 1.3985 - val_accuracy: 0.7012\n",
            "Epoch 8/10\n",
            "193/193 [==============================] - 4s 22ms/step - loss: 0.0354 - accuracy: 0.9906 - val_loss: 1.4251 - val_accuracy: 0.7023\n",
            "Epoch 9/10\n",
            "193/193 [==============================] - 5s 26ms/step - loss: 0.0292 - accuracy: 0.9914 - val_loss: 1.4674 - val_accuracy: 0.6904\n",
            "Epoch 10/10\n",
            "193/193 [==============================] - 5s 26ms/step - loss: 0.0248 - accuracy: 0.9935 - val_loss: 1.4720 - val_accuracy: 0.7109\n",
            "29/29 [==============================] - 2s 11ms/step\n",
            "\n",
            "\n",
            "Evaluation------------->\n",
            "| Metric    |   Value |\n",
            "|-----------+---------|\n",
            "| Accuracy  |  0.7109 |\n",
            "| Recall    |  0.6579 |\n",
            "| Precision |  0.6705 |\n",
            "| F1 Score  |  0.6625 |\n"
          ]
        },
        {
          "output_type": "display_data",
          "data": {
            "text/plain": [
              "<Figure size 600x400 with 2 Axes>"
            ],
            "image/png": "[encoded data removed]"
          },
          "metadata": {}
        },
        {
          "output_type": "stream",
          "name": "stdout",
          "text": [
            "Model saved to gdrive/MyDrive/./CE807/Assignment2/2200846/models/2/50/model.h5\n",
            "\n",
            "\n",
            "====================================================================================================\n",
            "\n",
            "\n",
            "=====Training on 75% of the dataset=====\n",
            "========================TRAINING METHOD 2========================\n",
            "Epoch 1/10\n",
            "289/289 [==============================] - 36s 98ms/step - loss: 0.5745 - accuracy: 0.7112 - val_loss: 0.5119 - val_accuracy: 0.7638\n",
            "Epoch 2/10\n",
            "289/289 [==============================] - 12s 41ms/step - loss: 0.3769 - accuracy: 0.8391 - val_loss: 0.5614 - val_accuracy: 0.7551\n",
            "Epoch 3/10\n",
            "289/289 [==============================] - 6s 22ms/step - loss: 0.2350 - accuracy: 0.9112 - val_loss: 0.6289 - val_accuracy: 0.7508\n",
            "Epoch 4/10\n",
            "289/289 [==============================] - 8s 27ms/step - loss: 0.1383 - accuracy: 0.9542 - val_loss: 0.8713 - val_accuracy: 0.7346\n",
            "Epoch 5/10\n",
            "289/289 [==============================] - 6s 21ms/step - loss: 0.0879 - accuracy: 0.9707 - val_loss: 1.1179 - val_accuracy: 0.7141\n",
            "Epoch 6/10\n",
            "289/289 [==============================] - 8s 28ms/step - loss: 0.0613 - accuracy: 0.9799 - val_loss: 1.3359 - val_accuracy: 0.7206\n",
            "Epoch 7/10\n",
            "289/289 [==============================] - 7s 23ms/step - loss: 0.0433 - accuracy: 0.9867 - val_loss: 1.5017 - val_accuracy: 0.7141\n",
            "Epoch 8/10\n",
            "289/289 [==============================] - 6s 21ms/step - loss: 0.0441 - accuracy: 0.9840 - val_loss: 1.3571 - val_accuracy: 0.7109\n",
            "Epoch 9/10\n",
            "289/289 [==============================] - 7s 24ms/step - loss: 0.0504 - accuracy: 0.9826 - val_loss: 1.3944 - val_accuracy: 0.7012\n",
            "Epoch 10/10\n",
            "289/289 [==============================] - 5s 19ms/step - loss: 0.0385 - accuracy: 0.9868 - val_loss: 1.5339 - val_accuracy: 0.7120\n",
            "29/29 [==============================] - 2s 12ms/step\n",
            "\n",
            "\n",
            "Evaluation------------->\n",
            "| Metric    |   Value |\n",
            "|-----------+---------|\n",
            "| Accuracy  |  0.712  |\n",
            "| Recall    |  0.675  |\n",
            "| Precision |  0.6753 |\n",
            "| F1 Score  |  0.6752 |\n"
          ]
        },
        {
          "output_type": "display_data",
          "data": {
            "text/plain": [
              "<Figure size 600x400 with 2 Axes>"
            ],
            "image/png": "[encoded data removed]"
          },
          "metadata": {}
        },
        {
          "output_type": "stream",
          "name": "stdout",
          "text": [
            "Model saved to gdrive/MyDrive/./CE807/Assignment2/2200846/models/2/75/model.h5\n",
            "\n",
            "\n",
            "====================================================================================================\n",
            "\n",
            "\n",
            "=====Training on 100% of the dataset=====\n",
            "========================TRAINING METHOD 2========================\n",
            "Epoch 1/10\n",
            "385/385 [==============================] - 37s 79ms/step - loss: 0.5562 - accuracy: 0.7236 - val_loss: 0.5200 - val_accuracy: 0.7616\n",
            "Epoch 2/10\n",
            "385/385 [==============================] - 12s 30ms/step - loss: 0.3805 - accuracy: 0.8428 - val_loss: 0.5522 - val_accuracy: 0.7584\n",
            "Epoch 3/10\n",
            "385/385 [==============================] - 10s 26ms/step - loss: 0.2524 - accuracy: 0.9034 - val_loss: 0.6354 - val_accuracy: 0.7389\n",
            "Epoch 4/10\n",
            "385/385 [==============================] - 9s 23ms/step - loss: 0.1678 - accuracy: 0.9409 - val_loss: 0.7845 - val_accuracy: 0.7152\n",
            "Epoch 5/10\n",
            "385/385 [==============================] - 9s 24ms/step - loss: 0.1120 - accuracy: 0.9599 - val_loss: 1.1341 - val_accuracy: 0.7098\n",
            "Epoch 6/10\n",
            "385/385 [==============================] - 10s 25ms/step - loss: 0.0795 - accuracy: 0.9708 - val_loss: 1.3946 - val_accuracy: 0.7152\n",
            "Epoch 7/10\n",
            "385/385 [==============================] - 8s 21ms/step - loss: 0.0645 - accuracy: 0.9748 - val_loss: 1.4596 - val_accuracy: 0.7184\n",
            "Epoch 8/10\n",
            "385/385 [==============================] - 9s 23ms/step - loss: 0.0501 - accuracy: 0.9800 - val_loss: 1.6134 - val_accuracy: 0.6980\n",
            "Epoch 9/10\n",
            "385/385 [==============================] - 7s 19ms/step - loss: 0.0447 - accuracy: 0.9824 - val_loss: 1.6814 - val_accuracy: 0.7131\n",
            "Epoch 10/10\n",
            "385/385 [==============================] - 9s 23ms/step - loss: 0.0439 - accuracy: 0.9824 - val_loss: 1.7675 - val_accuracy: 0.7066\n",
            "29/29 [==============================] - 1s 11ms/step\n",
            "\n",
            "\n",
            "Evaluation------------->\n",
            "| Metric    |   Value |\n",
            "|-----------+---------|\n",
            "| Accuracy  |  0.7066 |\n",
            "| Recall    |  0.6669 |\n",
            "| Precision |  0.6686 |\n",
            "| F1 Score  |  0.6677 |\n"
          ]
        },
        {
          "output_type": "display_data",
          "data": {
            "text/plain": [
              "<Figure size 600x400 with 2 Axes>"
            ],
            "image/png": "[encoded data removed]"
          },
          "metadata": {}
        },
        {
          "output_type": "stream",
          "name": "stdout",
          "text": [
            "Model saved to gdrive/MyDrive/./CE807/Assignment2/2200846/models/2/100/model.h5\n",
            "\n",
            "\n",
            "====================================================================================================\n",
            "\n",
            "\n"
          ]
        }
      ]
    },
    {
      "cell_type": "markdown",
      "source": [
        "**The best model was when trained and evaluated on 75% of training data**"
      ],
      "metadata": {
        "id": "nMQnMocS-c1A"
      }
    },
    {
      "cell_type": "code",
      "source": [
        "# testing on entire dataset\n",
        "test_method2(test_file, MODEL_2_100_DIRECTORY, model_2_100_output_test_file)"
      ],
      "metadata": {
        "colab": {
          "base_uri": "https://localhost:8080/",
          "height": 874
        },
        "id": "KmYP8x8i6YBo",
        "outputId": "1926dbcc-8d6c-49a6-a256-cb9e400c8ae0"
      },
      "execution_count": 24,
      "outputs": [
        {
          "output_type": "stream",
          "name": "stdout",
          "text": [
            "\n",
            "\n",
            "========================TESTING METHOD 2========================\n",
            "27/27 [==============================] - 2s 10ms/step\n",
            "\n",
            "\n",
            "Evaluation------------->\n",
            "| Metric    |   Value |\n",
            "|-----------+---------|\n",
            "| Accuracy  |  0.743  |\n",
            "| Recall    |  0.6762 |\n",
            "| Precision |  0.6795 |\n",
            "| F1 Score  |  0.6778 |\n"
          ]
        },
        {
          "output_type": "display_data",
          "data": {
            "text/plain": [
              "<Figure size 600x400 with 2 Axes>"
            ],
            "image/png": "[encoded data removed]"
          },
          "metadata": {}
        },
        {
          "output_type": "stream",
          "name": "stdout",
          "text": [
            "        id                                              tweet label out_label\n",
            "0    15923  # WhoIsQ # WheresTheServer # DumpNike # DECLAS...   OFF       OFF\n",
            "1    27014  # ConstitutionDay revered Conservatives , hate...   NOT       NOT\n",
            "2    30530  # FOXNews # NRA # MAGA # POTUS # TRUMP # 2ndAm...   NOT       OFF\n",
            "3    13876  # Watching # Boomer getting news still parole ...   NOT       NOT\n",
            "4    60133  # NoPasaran : Unity demo oppose far-right # Lo...   OFF       NOT\n",
            "..     ...                                                ...   ...       ...\n",
            "855  73439  # DespicableDems lie rifles . Dem Distorted La...   OFF       NOT\n",
            "856  25657  # MeetTheSpeakers 🙌 @ USER present event OIW 2...   NOT       NOT\n",
            "857  67018  3 people unfollowed talking merlin sorry y'all...   OFF       NOT\n",
            "858  50665  # WednesdayWisdom Antifa calls right fascist ,...   NOT       OFF\n",
            "859  24583   # Kavanaugh typical # liberals , # Democrats URL   NOT       NOT\n",
            "\n",
            "[860 rows x 4 columns]\n",
            "Testing completed successfully!\n"
          ]
        }
      ]
    },
    {
      "cell_type": "markdown",
      "source": [
        "## Method 2 End\n"
      ],
      "metadata": {
        "id": "4gNwyxXNSmVb"
      }
    },
    {
      "cell_type": "markdown",
      "source": [
        "# Method 3\n"
      ],
      "metadata": {
        "id": "rmaJfJkVwSDW"
      }
    },
    {
      "cell_type": "markdown",
      "source": [
        "**This method preprocesse the data using NLTK and TFIDF Vectorizer and trains a BiLSTM model**"
      ],
      "metadata": {
        "id": "5V8-p31NbKIM"
      }
    },
    {
      "cell_type": "markdown",
      "source": [
        "## Training Method 3 code"
      ],
      "metadata": {
        "id": "WYIDWadjEb9z"
      }
    },
    {
      "cell_type": "code",
      "source": [
        "def train_method3(train_file, val_file, model_dir):\n",
        "    \"\"\"\n",
        "    Trains a Convolutional Neural Network (CNN) model on the given training dataset, validates it on the given validation\n",
        "    dataset, saves the trained model, and prints the classification report.\n",
        "\n",
        "    Args:\n",
        "        train_file: str, the path of the training dataset file\n",
        "        val_file: str, the path of the validation dataset file\n",
        "        model_dir: str, the path of the directory where the trained model should be saved\n",
        "\n",
        "    Returns:\n",
        "        None\n",
        "    \"\"\"\n",
        "    \"\"\"\n",
        "    Trains a Support Vector Machine model using the preprocessed training data and saves the\n",
        "    trained model to disk.\n",
        "\n",
        "    Args:\n",
        "        train_file (str): The path to the preprocessed training data file.\n",
        "        val_file (str): The path to the preprocessed validation data file.\n",
        "        model_dir (str): The path to the directory where the trained model will be saved.\n",
        "    \"\"\"\n",
        "\n",
        "    print('========================TRAINING METHOD 3========================')\n",
        "    # Load the dataset\n",
        "    train_data = pd.read_csv(train_file)\n",
        "    val_data = pd.read_csv(val_file)\n",
        "\n",
        "    # Clean the data\n",
        "    train_data = clean_text(train_data)\n",
        "    val_data = clean_text(val_data)\n",
        "\n",
        "    # Vectorize the data\n",
        "    X_train, y_train, vectorizer = vectorizing(train_data)\n",
        "    vec_path = os.path.join(model_dir, \"vec.sav\")\n",
        "    joblib.dump(vectorizer, vec_path)\n",
        "\n",
        "    X_val = vectorizer.transform(val_data['tweet'])\n",
        "    y_val = val_data['label']\n",
        "\n",
        "    # Pad sequences\n",
        "    max_len = 100\n",
        "    X_train = X_train.toarray()\n",
        "    X_train = pad_sequences(X_train, maxlen=max_len)\n",
        "    X_val = X_val.toarray()\n",
        "    X_val = pad_sequences(X_val, maxlen=max_len)\n",
        "\n",
        "    # Convert labels to one-hot vectors\n",
        "    y_train = pd.get_dummies(y_train).values\n",
        "    y_val = pd.get_dummies(y_val).values\n",
        "\n",
        "\n",
        "    # Define the BiLSTM model\n",
        "    model = Sequential([\n",
        "        Embedding(input_dim=10000, output_dim=128, input_length=max_len),\n",
        "        Bidirectional(LSTM(units=64, return_sequences=True)),\n",
        "        Dropout(0.2),\n",
        "        Bidirectional(LSTM(units=32)),\n",
        "        Dropout(0.2),\n",
        "        Dense(units=2, activation='softmax')\n",
        "    ])\n",
        "    model.compile(optimizer='adam', loss='categorical_crossentropy', metrics=['accuracy'])\n",
        "\n",
        "    # Train the model\n",
        "    history = model.fit(X_train, y_train, validation_data=(X_val, y_val), epochs=10, batch_size=32)\n",
        "\n",
        "\n",
        "    # Save the trained model to disk\n",
        "    if not os.path.exists(model_dir):\n",
        "        os.makedirs(model_dir)\n",
        "    model_path = os.path.join(model_dir, \"model.h5\")\n",
        "    joblib.dump(model, model_path)\n",
        "\n",
        "    # Evaluate the model\n",
        "    y_pred_val = model.predict(X_val)\n",
        "    y_pred_val = y_pred_val.argmax(axis=1)\n",
        "    y_val = y_val.argmax(axis=1)\n",
        "\n",
        "    \n",
        "    # Compute evaluation matrics\n",
        "    print('\\n')\n",
        "    print('Evaluation------------->')\n",
        "    compute_performance(y_val, y_pred_val)\n",
        "\n",
        "\n",
        "    print(f\"Model saved to {model_path}\")\n",
        "\n",
        "    return"
      ],
      "metadata": {
        "id": "JA7vbLnoc0b5"
      },
      "execution_count": 25,
      "outputs": []
    },
    {
      "cell_type": "markdown",
      "source": [
        "## Testing Method 3 code"
      ],
      "metadata": {
        "id": "7HaiNVSLEhv4"
      }
    },
    {
      "cell_type": "code",
      "source": [
        "def test_method3(test_file, model_file, output_dir):\n",
        "    \"\"\"\n",
        "    Loads a trained model from disk and evaluates it on the test data. Saves the\n",
        "    output file to disk.\n",
        "\n",
        "    Args:\n",
        "        test_file (str): The path to the preprocessed test data file.\n",
        "        model_file (str): The path to the trained model file.\n",
        "        output_dir (str): The path to the directory where the classification report will be saved.\n",
        "    \"\"\"\n",
        "    print('\\n')\n",
        "    print('========================TESTING METHOD 3========================')\n",
        "    # Load test data\n",
        "    test_data = pd.read_csv(test_file)\n",
        "    \n",
        "    # Load the trained model and vectorizer\n",
        "    model = joblib.load(os.path.join(model_file, \"model.h5\"))\n",
        "    vectorizer = joblib.load(os.path.join(model_file, \"vec.sav\"))\n",
        "\n",
        "    # Preprocess the test data\n",
        "    test_data = clean_text(test_data)\n",
        "\n",
        "    # Vectorize the data\n",
        "    X_test = vectorizer.transform(test_data['tweet'])\n",
        "    X_test = X_test.toarray()\n",
        "    X_test = pad_sequences(X_test, maxlen=100)\n",
        "    y_test = test_data['label']\n",
        "\n",
        "    # Convert labels to one-hot vectors\n",
        "    y_test = pd.get_dummies(y_test).values\n",
        "\n",
        "    # Make predictions on the test data\n",
        "    y_pred_test = model.predict(X_test)\n",
        "    y_pred_test = y_pred_test.argmax(axis=1)\n",
        "    y_test = y_test.argmax(axis=1)\n",
        "\n",
        "\n",
        "    # Compute evaluation matrics\n",
        "    print('\\n')\n",
        "    print('Evaluation------------->')\n",
        "    compute_performance(y_test, y_pred_test)\n",
        "\n",
        "\n",
        "    # Save predictions to output file\n",
        "    y_pred_test = np.where(y_pred_test==1, 'OFF', 'NOT') # Convert back to 'NOT' and 'OFF\n",
        "    test_data['out_label'] = y_pred_test\n",
        "    test_data.to_csv(output_dir, index=False)\n",
        "    print(\"Testing completed successfully!\")\n",
        "    return "
      ],
      "metadata": {
        "id": "v477tmxOSlVj"
      },
      "execution_count": 26,
      "outputs": []
    },
    {
      "cell_type": "code",
      "source": [
        "training_data = [\n",
        "    (train_25_file, MODEL_3_25_DIRECTORY, model_3_25_output_test_file, '25%'),\n",
        "    (train_50_file, MODEL_3_50_DIRECTORY, model_3_50_output_test_file, '50%'),\n",
        "    (train_75_file, MODEL_3_75_DIRECTORY, model_3_75_output_test_file, '75%'),\n",
        "    (train_100_file, MODEL_3_100_DIRECTORY, model_3_100_output_test_file, '100%')\n",
        "]\n",
        "\n",
        "for data in training_data:\n",
        "    train_file, model_dir, output_file, data_label = data\n",
        "    print(f'=====Training on {data_label} of the dataset=====')\n",
        "    train_method3(train_file, val_file, model_dir)\n",
        "    print('\\n')\n",
        "    print('='*100)\n",
        "    print('\\n')"
      ],
      "metadata": {
        "colab": {
          "base_uri": "https://localhost:8080/",
          "height": 1000
        },
        "id": "WjlPh5qn2xkS",
        "outputId": "1b57680f-fe0c-4bd8-e2a5-23128baf2a47"
      },
      "execution_count": 27,
      "outputs": [
        {
          "output_type": "stream",
          "name": "stdout",
          "text": [
            "=====Training on 25% of the dataset=====\n",
            "========================TRAINING METHOD 3========================\n",
            "Epoch 1/10\n",
            "97/97 [==============================] - 13s 43ms/step - loss: 0.6439 - accuracy: 0.6619 - val_loss: 0.6365 - val_accuracy: 0.6677\n",
            "Epoch 2/10\n",
            "97/97 [==============================] - 2s 21ms/step - loss: 0.6392 - accuracy: 0.6677 - val_loss: 0.6359 - val_accuracy: 0.6677\n",
            "Epoch 3/10\n",
            "97/97 [==============================] - 2s 20ms/step - loss: 0.6392 - accuracy: 0.6677 - val_loss: 0.6395 - val_accuracy: 0.6677\n",
            "Epoch 4/10\n",
            "97/97 [==============================] - 2s 23ms/step - loss: 0.6370 - accuracy: 0.6677 - val_loss: 0.6358 - val_accuracy: 0.6677\n",
            "Epoch 5/10\n",
            "97/97 [==============================] - 3s 30ms/step - loss: 0.6382 - accuracy: 0.6677 - val_loss: 0.6358 - val_accuracy: 0.6677\n",
            "Epoch 6/10\n",
            "97/97 [==============================] - 2s 24ms/step - loss: 0.6379 - accuracy: 0.6677 - val_loss: 0.6383 - val_accuracy: 0.6677\n",
            "Epoch 7/10\n",
            "97/97 [==============================] - 2s 21ms/step - loss: 0.6389 - accuracy: 0.6677 - val_loss: 0.6375 - val_accuracy: 0.6677\n",
            "Epoch 8/10\n",
            "97/97 [==============================] - 2s 20ms/step - loss: 0.6363 - accuracy: 0.6677 - val_loss: 0.6376 - val_accuracy: 0.6677\n",
            "Epoch 9/10\n",
            "97/97 [==============================] - 2s 20ms/step - loss: 0.6376 - accuracy: 0.6677 - val_loss: 0.6359 - val_accuracy: 0.6677\n",
            "Epoch 10/10\n",
            "97/97 [==============================] - 2s 20ms/step - loss: 0.6381 - accuracy: 0.6677 - val_loss: 0.6371 - val_accuracy: 0.6677\n",
            "29/29 [==============================] - 2s 11ms/step\n",
            "\n",
            "\n",
            "Evaluation------------->\n",
            "| Metric    |   Value |\n",
            "|-----------+---------|\n",
            "| Accuracy  |  0.6677 |\n",
            "| Recall    |  0.5    |\n",
            "| Precision |  0.3339 |\n",
            "| F1 Score  |  0.4004 |\n"
          ]
        },
        {
          "output_type": "display_data",
          "data": {
            "text/plain": [
              "<Figure size 600x400 with 2 Axes>"
            ],
            "image/png": "[encoded data removed]"
          },
          "metadata": {}
        },
        {
          "output_type": "stream",
          "name": "stdout",
          "text": [
            "Model saved to gdrive/MyDrive/./CE807/Assignment2/2200846/models/3/25/model.h5\n",
            "\n",
            "\n",
            "====================================================================================================\n",
            "\n",
            "\n",
            "=====Training on 50% of the dataset=====\n",
            "========================TRAINING METHOD 3========================\n",
            "Epoch 1/10\n",
            "193/193 [==============================] - 14s 36ms/step - loss: 0.6397 - accuracy: 0.6672 - val_loss: 0.6358 - val_accuracy: 0.6677\n",
            "Epoch 2/10\n",
            "193/193 [==============================] - 4s 19ms/step - loss: 0.6372 - accuracy: 0.6677 - val_loss: 0.6380 - val_accuracy: 0.6677\n",
            "Epoch 3/10\n",
            "193/193 [==============================] - 4s 19ms/step - loss: 0.6376 - accuracy: 0.6677 - val_loss: 0.6369 - val_accuracy: 0.6677\n",
            "Epoch 4/10\n",
            "193/193 [==============================] - 5s 25ms/step - loss: 0.6370 - accuracy: 0.6677 - val_loss: 0.6374 - val_accuracy: 0.6677\n",
            "Epoch 5/10\n",
            "193/193 [==============================] - 4s 20ms/step - loss: 0.6380 - accuracy: 0.6677 - val_loss: 0.6442 - val_accuracy: 0.6677\n",
            "Epoch 6/10\n",
            "193/193 [==============================] - 4s 18ms/step - loss: 0.6374 - accuracy: 0.6677 - val_loss: 0.6365 - val_accuracy: 0.6677\n",
            "Epoch 7/10\n",
            "193/193 [==============================] - 4s 21ms/step - loss: 0.6371 - accuracy: 0.6677 - val_loss: 0.6371 - val_accuracy: 0.6677\n",
            "Epoch 8/10\n",
            "193/193 [==============================] - 5s 25ms/step - loss: 0.6371 - accuracy: 0.6677 - val_loss: 0.6359 - val_accuracy: 0.6677\n",
            "Epoch 9/10\n",
            "193/193 [==============================] - 4s 19ms/step - loss: 0.6373 - accuracy: 0.6677 - val_loss: 0.6362 - val_accuracy: 0.6677\n",
            "Epoch 10/10\n",
            "193/193 [==============================] - 4s 19ms/step - loss: 0.6369 - accuracy: 0.6677 - val_loss: 0.6359 - val_accuracy: 0.6677\n",
            "29/29 [==============================] - 1s 11ms/step\n",
            "\n",
            "\n",
            "Evaluation------------->\n",
            "| Metric    |   Value |\n",
            "|-----------+---------|\n",
            "| Accuracy  |  0.6677 |\n",
            "| Recall    |  0.5    |\n",
            "| Precision |  0.3339 |\n",
            "| F1 Score  |  0.4004 |\n"
          ]
        },
        {
          "output_type": "display_data",
          "data": {
            "text/plain": [
              "<Figure size 600x400 with 2 Axes>"
            ],
            "image/png": "[encoded data removed]"
          },
          "metadata": {}
        },
        {
          "output_type": "stream",
          "name": "stdout",
          "text": [
            "Model saved to gdrive/MyDrive/./CE807/Assignment2/2200846/models/3/50/model.h5\n",
            "\n",
            "\n",
            "====================================================================================================\n",
            "\n",
            "\n",
            "=====Training on 75% of the dataset=====\n",
            "========================TRAINING METHOD 3========================\n",
            "Epoch 1/10\n",
            "289/289 [==============================] - 15s 29ms/step - loss: 0.6400 - accuracy: 0.6669 - val_loss: 0.6362 - val_accuracy: 0.6677\n",
            "Epoch 2/10\n",
            "289/289 [==============================] - 5s 18ms/step - loss: 0.6372 - accuracy: 0.6677 - val_loss: 0.6360 - val_accuracy: 0.6677\n",
            "Epoch 3/10\n",
            "289/289 [==============================] - 7s 23ms/step - loss: 0.6374 - accuracy: 0.6677 - val_loss: 0.6364 - val_accuracy: 0.6677\n",
            "Epoch 4/10\n",
            "289/289 [==============================] - 5s 18ms/step - loss: 0.6372 - accuracy: 0.6677 - val_loss: 0.6361 - val_accuracy: 0.6677\n",
            "Epoch 5/10\n",
            "289/289 [==============================] - 5s 19ms/step - loss: 0.6370 - accuracy: 0.6677 - val_loss: 0.6359 - val_accuracy: 0.6677\n",
            "Epoch 6/10\n",
            "289/289 [==============================] - 7s 23ms/step - loss: 0.6375 - accuracy: 0.6677 - val_loss: 0.6373 - val_accuracy: 0.6677\n",
            "Epoch 7/10\n",
            "289/289 [==============================] - 5s 18ms/step - loss: 0.6362 - accuracy: 0.6677 - val_loss: 0.6359 - val_accuracy: 0.6677\n",
            "Epoch 8/10\n",
            "289/289 [==============================] - 7s 24ms/step - loss: 0.6366 - accuracy: 0.6677 - val_loss: 0.6367 - val_accuracy: 0.6677\n",
            "Epoch 9/10\n",
            "289/289 [==============================] - 5s 18ms/step - loss: 0.6371 - accuracy: 0.6677 - val_loss: 0.6360 - val_accuracy: 0.6677\n",
            "Epoch 10/10\n",
            "289/289 [==============================] - 6s 19ms/step - loss: 0.6363 - accuracy: 0.6677 - val_loss: 0.6358 - val_accuracy: 0.6677\n",
            "29/29 [==============================] - 2s 11ms/step\n",
            "\n",
            "\n",
            "Evaluation------------->\n",
            "| Metric    |   Value |\n",
            "|-----------+---------|\n",
            "| Accuracy  |  0.6677 |\n",
            "| Recall    |  0.5    |\n",
            "| Precision |  0.3339 |\n",
            "| F1 Score  |  0.4004 |\n"
          ]
        },
        {
          "output_type": "display_data",
          "data": {
            "text/plain": [
              "<Figure size 600x400 with 2 Axes>"
            ],
            "image/png": "[encoded data removed]"
          },
          "metadata": {}
        },
        {
          "output_type": "stream",
          "name": "stdout",
          "text": [
            "Model saved to gdrive/MyDrive/./CE807/Assignment2/2200846/models/3/75/model.h5\n",
            "\n",
            "\n",
            "====================================================================================================\n",
            "\n",
            "\n",
            "=====Training on 100% of the dataset=====\n",
            "========================TRAINING METHOD 3========================\n",
            "Epoch 1/10\n",
            "385/385 [==============================] - 17s 22ms/step - loss: 0.6393 - accuracy: 0.6666 - val_loss: 0.6358 - val_accuracy: 0.6677\n",
            "Epoch 2/10\n",
            "385/385 [==============================] - 9s 22ms/step - loss: 0.6375 - accuracy: 0.6677 - val_loss: 0.6364 - val_accuracy: 0.6677\n",
            "Epoch 3/10\n",
            "385/385 [==============================] - 7s 18ms/step - loss: 0.6370 - accuracy: 0.6677 - val_loss: 0.6381 - val_accuracy: 0.6677\n",
            "Epoch 4/10\n",
            "385/385 [==============================] - 9s 23ms/step - loss: 0.6361 - accuracy: 0.6677 - val_loss: 0.6378 - val_accuracy: 0.6677\n",
            "Epoch 5/10\n",
            "385/385 [==============================] - 7s 19ms/step - loss: 0.6370 - accuracy: 0.6677 - val_loss: 0.6360 - val_accuracy: 0.6677\n",
            "Epoch 6/10\n",
            "385/385 [==============================] - 8s 21ms/step - loss: 0.6369 - accuracy: 0.6677 - val_loss: 0.6358 - val_accuracy: 0.6677\n",
            "Epoch 7/10\n",
            "385/385 [==============================] - 8s 21ms/step - loss: 0.6367 - accuracy: 0.6677 - val_loss: 0.6359 - val_accuracy: 0.6677\n",
            "Epoch 8/10\n",
            "385/385 [==============================] - 8s 21ms/step - loss: 0.6364 - accuracy: 0.6677 - val_loss: 0.6358 - val_accuracy: 0.6677\n",
            "Epoch 9/10\n",
            "385/385 [==============================] - 9s 23ms/step - loss: 0.6370 - accuracy: 0.6677 - val_loss: 0.6374 - val_accuracy: 0.6677\n",
            "Epoch 10/10\n",
            "385/385 [==============================] - 7s 19ms/step - loss: 0.6362 - accuracy: 0.6677 - val_loss: 0.6358 - val_accuracy: 0.6677\n",
            "29/29 [==============================] - 1s 11ms/step\n",
            "\n",
            "\n",
            "Evaluation------------->\n",
            "| Metric    |   Value |\n",
            "|-----------+---------|\n",
            "| Accuracy  |  0.6677 |\n",
            "| Recall    |  0.5    |\n",
            "| Precision |  0.3339 |\n",
            "| F1 Score  |  0.4004 |\n"
          ]
        },
        {
          "output_type": "display_data",
          "data": {
            "text/plain": [
              "<Figure size 600x400 with 2 Axes>"
            ],
            "image/png": "[encoded data removed]"
          },
          "metadata": {}
        },
        {
          "output_type": "stream",
          "name": "stdout",
          "text": [
            "Model saved to gdrive/MyDrive/./CE807/Assignment2/2200846/models/3/100/model.h5\n",
            "\n",
            "\n",
            "====================================================================================================\n",
            "\n",
            "\n"
          ]
        }
      ]
    },
    {
      "cell_type": "markdown",
      "source": [
        "**It was observed that the performance remanined cosistent through out the datasize. So, the model trained on 100% dataset was used for testing.**"
      ],
      "metadata": {
        "id": "lBwencTj_JCf"
      }
    },
    {
      "cell_type": "code",
      "source": [
        "# testing on entire dataset\n",
        "test_method3(test_file, MODEL_3_100_DIRECTORY, model_3_100_output_test_file)"
      ],
      "metadata": {
        "colab": {
          "base_uri": "https://localhost:8080/",
          "height": 631
        },
        "id": "JFE2ubFi6dLI",
        "outputId": "f9ef9bb7-a86a-488c-c287-ae8b98138a97"
      },
      "execution_count": 28,
      "outputs": [
        {
          "output_type": "stream",
          "name": "stdout",
          "text": [
            "\n",
            "\n",
            "========================TESTING METHOD 3========================\n",
            "27/27 [==============================] - 2s 10ms/step\n",
            "\n",
            "\n",
            "Evaluation------------->\n",
            "| Metric    |   Value |\n",
            "|-----------+---------|\n",
            "| Accuracy  |  0.7209 |\n",
            "| Recall    |  0.5    |\n",
            "| Precision |  0.3605 |\n",
            "| F1 Score  |  0.4189 |\n"
          ]
        },
        {
          "output_type": "display_data",
          "data": {
            "text/plain": [
              "<Figure size 600x400 with 2 Axes>"
            ],
            "image/png": "[encoded data removed]"
          },
          "metadata": {}
        },
        {
          "output_type": "stream",
          "name": "stdout",
          "text": [
            "Testing completed successfully!\n"
          ]
        }
      ]
    },
    {
      "cell_type": "markdown",
      "source": [
        "##Model 3 End"
      ],
      "metadata": {
        "id": "7yMswIeAwYIf"
      }
    }
  ]
}